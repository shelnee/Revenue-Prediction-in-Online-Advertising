{
 "cells": [
  {
   "cell_type": "markdown",
   "metadata": {},
   "source": [
    "# MATH2319 Machine Learning Project Phase 2"
   ]
  },
  {
   "cell_type": "markdown",
   "metadata": {},
   "source": [
    "## Project Title：Revenue Prediction in Online Advertising - 2019, semester 1\n",
    "#### Team members: \n",
    "- Shel Nee Gan (s3746473)\n",
    "- Hongli Li (s3697150)"
   ]
  },
  {
   "cell_type": "markdown",
   "metadata": {},
   "source": [
    "## Objective \n",
    "The objective of this project is to fit and compare three different regressors (target feature is continuous) to predict the revenue value for each web traffic record using the online advertising dataset. We train three machine learning algorithms (kNN, DT, RF) to learn the pattern of the data and then predict the values of the revenue. The best performing algorithm will be identified by comparing the predictive accuracy, which can be reflected by a lowest RMSE. "
   ]
  },
  {
   "cell_type": "markdown",
   "metadata": {},
   "source": [
    "## 1. Introduction\n",
    "\n",
    "This online advertising dataset provided by Kaggle has been cleaned and pre-processed in phase 1 of the project. An outline of this report is as follow. Section 2 describes a detailed methodology for the whole project. Furthermore, some adjustments of the dataset are made in section 2 to further pre-process the training data in order to boost the learning capacity of the chosen machine learning algorithms.  For each of the three algorithms, each sub-section of section 3 accordingly narrates the detailed process of feature selection, hyperparameter tunning and performance analysis. Section 4 conducts model performance comparison between three algorithms, the paired-t statistical test and also different validation strategies to make the most accurate algorithm convincible. Section 5 discusses the strengths and weaknesses of our approach and possible solutions. Lastly, section 6 provices a brief summary of the findings of this project and recommonded approach for automatic prediction of the future revenue.\n"
   ]
  },
  {
   "cell_type": "markdown",
   "metadata": {},
   "source": [
    "## 2. Methodology Overview\n",
    "\n",
    "\n",
    "In this project, since the target feature in the data set is numeric, we chose the K Nearest Neighbours (kNN) regressor, Decision Tree (DT) regressor and the Random Forest (RF) regressor algorithms to learn the training data and then predict for the test data. For the tree-based algorithms (DT and RF), we used the unscaled data. For the kNN algorithm, we used the MinMaxScaler transformed data since kNN works much better on Normalised data. The dataset has been split into training set and test set by a ration of 8:2, this gives a training set of 4000 rows and a test set of 1000 rows of data. During tunning, to meet the capacity of our laptops, we take a subset of 5000 rows from the full data set to work with. \n",
    "\n",
    "We select several important features by the Random Forest Importance method. We considered subsets of 5, 10 and 20 features (the full set is 20 features) and finally, the pipeline process suggests the best algorithms performance is given by when 20 features are selected, except for decision tree regressor which performs the best when 10 features are selected. \n",
    "\n",
    "The pipeline process also includes the hyperparameter search for each regressor algorithm. We intended to use 5-fold cross validation with 3 repetitions throughout the project, to minimise the overfitting issue. But in the experiments, we used the 3-fold cross validation with no repetition because this is the only way that can work and produce results from our laptops. The optimal values for each hyperparameter of each regressor have been selected by the pipeline, using the negative mean squared error as the performance metric. The lowest mean squared error gives the best model for a given regressor algorithm. After the three regressors are trained by the optimal parameter values, we conduct a 10-fold cross validation on the test data set when evaluating the predictive power of the regressors. The performance of the kNN regressor, decision tree regressor and the random forest regressor are compared and evaluated under the RMSE metric. For any difference in the RMSE value, we used paired T-test to conclude whether that difference is statistically significant, from there we conclude the best performing regressor is the random forest with the lowest RMSE value.\n",
    "\n"
   ]
  },
  {
   "cell_type": "markdown",
   "metadata": {},
   "source": [
    "### Further Data Preparation<a class=\"anchor\" id=\"3\"></a> "
   ]
  },
  {
   "cell_type": "code",
   "execution_count": 1,
   "metadata": {},
   "outputs": [],
   "source": [
    "import pandas as pd\n",
    "import numpy as np\n",
    "import sklearn\n",
    "from sklearn import preprocessing\n",
    "import io"
   ]
  },
  {
   "cell_type": "code",
   "execution_count": 2,
   "metadata": {},
   "outputs": [
    {
     "data": {
      "text/html": [
       "<div>\n",
       "<style scoped>\n",
       "    .dataframe tbody tr th:only-of-type {\n",
       "        vertical-align: middle;\n",
       "    }\n",
       "\n",
       "    .dataframe tbody tr th {\n",
       "        vertical-align: top;\n",
       "    }\n",
       "\n",
       "    .dataframe thead th {\n",
       "        text-align: right;\n",
       "    }\n",
       "</style>\n",
       "<table border=\"1\" class=\"dataframe\">\n",
       "  <thead>\n",
       "    <tr style=\"text-align: right;\">\n",
       "      <th></th>\n",
       "      <th>Unnamed: 0</th>\n",
       "      <th>companyId</th>\n",
       "      <th>countryId</th>\n",
       "      <th>deviceType</th>\n",
       "      <th>day</th>\n",
       "      <th>dow</th>\n",
       "      <th>price1</th>\n",
       "      <th>price2</th>\n",
       "      <th>price3</th>\n",
       "      <th>ad_area</th>\n",
       "      <th>...</th>\n",
       "      <th>impression</th>\n",
       "      <th>cpc</th>\n",
       "      <th>ctr</th>\n",
       "      <th>viewability</th>\n",
       "      <th>ratio1</th>\n",
       "      <th>ratio2</th>\n",
       "      <th>ratio3</th>\n",
       "      <th>ratio4</th>\n",
       "      <th>ratio5</th>\n",
       "      <th>y</th>\n",
       "    </tr>\n",
       "  </thead>\n",
       "  <tbody>\n",
       "    <tr>\n",
       "      <th>0</th>\n",
       "      <td>0</td>\n",
       "      <td>95</td>\n",
       "      <td>234</td>\n",
       "      <td>1</td>\n",
       "      <td>1</td>\n",
       "      <td>5</td>\n",
       "      <td>0.11</td>\n",
       "      <td>0.30</td>\n",
       "      <td>0.6000</td>\n",
       "      <td>7.5000</td>\n",
       "      <td>...</td>\n",
       "      <td>4350</td>\n",
       "      <td>0.6291</td>\n",
       "      <td>0.0011</td>\n",
       "      <td>0.0557</td>\n",
       "      <td>0.8630</td>\n",
       "      <td>0.4811</td>\n",
       "      <td>0.0646</td>\n",
       "      <td>0.3097</td>\n",
       "      <td>0.6257</td>\n",
       "      <td>0.250111</td>\n",
       "    </tr>\n",
       "    <tr>\n",
       "      <th>1</th>\n",
       "      <td>1</td>\n",
       "      <td>43</td>\n",
       "      <td>57</td>\n",
       "      <td>2</td>\n",
       "      <td>1</td>\n",
       "      <td>5</td>\n",
       "      <td>0.00</td>\n",
       "      <td>0.00</td>\n",
       "      <td>0.0000</td>\n",
       "      <td>24.2500</td>\n",
       "      <td>...</td>\n",
       "      <td>1023</td>\n",
       "      <td>0.1887</td>\n",
       "      <td>0.0039</td>\n",
       "      <td>0.4495</td>\n",
       "      <td>1.0000</td>\n",
       "      <td>0.6109</td>\n",
       "      <td>1.0000</td>\n",
       "      <td>0.0000</td>\n",
       "      <td>0.0000</td>\n",
       "      <td>0.816571</td>\n",
       "    </tr>\n",
       "    <tr>\n",
       "      <th>2</th>\n",
       "      <td>2</td>\n",
       "      <td>43</td>\n",
       "      <td>57</td>\n",
       "      <td>2</td>\n",
       "      <td>1</td>\n",
       "      <td>5</td>\n",
       "      <td>0.78</td>\n",
       "      <td>1.10</td>\n",
       "      <td>2.1786</td>\n",
       "      <td>24.2500</td>\n",
       "      <td>...</td>\n",
       "      <td>0</td>\n",
       "      <td>0.0000</td>\n",
       "      <td>0.0000</td>\n",
       "      <td>0.0000</td>\n",
       "      <td>0.0000</td>\n",
       "      <td>0.0000</td>\n",
       "      <td>0.0000</td>\n",
       "      <td>0.0000</td>\n",
       "      <td>0.0000</td>\n",
       "      <td>1.035484</td>\n",
       "    </tr>\n",
       "    <tr>\n",
       "      <th>3</th>\n",
       "      <td>3</td>\n",
       "      <td>43</td>\n",
       "      <td>57</td>\n",
       "      <td>2</td>\n",
       "      <td>1</td>\n",
       "      <td>5</td>\n",
       "      <td>0.78</td>\n",
       "      <td>1.10</td>\n",
       "      <td>2.1786</td>\n",
       "      <td>24.2500</td>\n",
       "      <td>...</td>\n",
       "      <td>1038</td>\n",
       "      <td>0.5028</td>\n",
       "      <td>0.0019</td>\n",
       "      <td>0.1883</td>\n",
       "      <td>0.6474</td>\n",
       "      <td>0.9595</td>\n",
       "      <td>1.0000</td>\n",
       "      <td>0.0000</td>\n",
       "      <td>0.0000</td>\n",
       "      <td>0.351807</td>\n",
       "    </tr>\n",
       "    <tr>\n",
       "      <th>4</th>\n",
       "      <td>4</td>\n",
       "      <td>43</td>\n",
       "      <td>29</td>\n",
       "      <td>2</td>\n",
       "      <td>1</td>\n",
       "      <td>5</td>\n",
       "      <td>4.56</td>\n",
       "      <td>4.56</td>\n",
       "      <td>4.5626</td>\n",
       "      <td>0.0001</td>\n",
       "      <td>...</td>\n",
       "      <td>27</td>\n",
       "      <td>0.0093</td>\n",
       "      <td>0.4444</td>\n",
       "      <td>0.8750</td>\n",
       "      <td>1.0000</td>\n",
       "      <td>1.0000</td>\n",
       "      <td>1.0000</td>\n",
       "      <td>0.0000</td>\n",
       "      <td>0.0000</td>\n",
       "      <td>0.067901</td>\n",
       "    </tr>\n",
       "  </tbody>\n",
       "</table>\n",
       "<p>5 rows × 22 columns</p>\n",
       "</div>"
      ],
      "text/plain": [
       "   Unnamed: 0  companyId  countryId  deviceType  day  dow  price1  price2  \\\n",
       "0           0         95        234           1    1    5    0.11    0.30   \n",
       "1           1         43         57           2    1    5    0.00    0.00   \n",
       "2           2         43         57           2    1    5    0.78    1.10   \n",
       "3           3         43         57           2    1    5    0.78    1.10   \n",
       "4           4         43         29           2    1    5    4.56    4.56   \n",
       "\n",
       "   price3  ad_area  ...  impression     cpc     ctr  viewability  ratio1  \\\n",
       "0  0.6000   7.5000  ...        4350  0.6291  0.0011       0.0557  0.8630   \n",
       "1  0.0000  24.2500  ...        1023  0.1887  0.0039       0.4495  1.0000   \n",
       "2  2.1786  24.2500  ...           0  0.0000  0.0000       0.0000  0.0000   \n",
       "3  2.1786  24.2500  ...        1038  0.5028  0.0019       0.1883  0.6474   \n",
       "4  4.5626   0.0001  ...          27  0.0093  0.4444       0.8750  1.0000   \n",
       "\n",
       "   ratio2  ratio3  ratio4  ratio5         y  \n",
       "0  0.4811  0.0646  0.3097  0.6257  0.250111  \n",
       "1  0.6109  1.0000  0.0000  0.0000  0.816571  \n",
       "2  0.0000  0.0000  0.0000  0.0000  1.035484  \n",
       "3  0.9595  1.0000  0.0000  0.0000  0.351807  \n",
       "4  1.0000  1.0000  0.0000  0.0000  0.067901  \n",
       "\n",
       "[5 rows x 22 columns]"
      ]
     },
     "execution_count": 2,
     "metadata": {},
     "output_type": "execute_result"
    }
   ],
   "source": [
    "#Load the cleaned data\n",
    "clean = pd.read_csv('clean_data.csv') \n",
    "clean.head()"
   ]
  },
  {
   "cell_type": "code",
   "execution_count": 3,
   "metadata": {},
   "outputs": [
    {
     "data": {
      "text/html": [
       "<div>\n",
       "<style scoped>\n",
       "    .dataframe tbody tr th:only-of-type {\n",
       "        vertical-align: middle;\n",
       "    }\n",
       "\n",
       "    .dataframe tbody tr th {\n",
       "        vertical-align: top;\n",
       "    }\n",
       "\n",
       "    .dataframe thead th {\n",
       "        text-align: right;\n",
       "    }\n",
       "</style>\n",
       "<table border=\"1\" class=\"dataframe\">\n",
       "  <thead>\n",
       "    <tr style=\"text-align: right;\">\n",
       "      <th></th>\n",
       "      <th>companyId</th>\n",
       "      <th>countryId</th>\n",
       "      <th>deviceType</th>\n",
       "      <th>day</th>\n",
       "      <th>dow</th>\n",
       "      <th>price1</th>\n",
       "      <th>price2</th>\n",
       "      <th>price3</th>\n",
       "      <th>ad_area</th>\n",
       "      <th>ad_ratio</th>\n",
       "      <th>...</th>\n",
       "      <th>impression</th>\n",
       "      <th>cpc</th>\n",
       "      <th>ctr</th>\n",
       "      <th>viewability</th>\n",
       "      <th>ratio1</th>\n",
       "      <th>ratio2</th>\n",
       "      <th>ratio3</th>\n",
       "      <th>ratio4</th>\n",
       "      <th>ratio5</th>\n",
       "      <th>y</th>\n",
       "    </tr>\n",
       "  </thead>\n",
       "  <tbody>\n",
       "    <tr>\n",
       "      <th>0</th>\n",
       "      <td>95</td>\n",
       "      <td>234</td>\n",
       "      <td>1</td>\n",
       "      <td>1</td>\n",
       "      <td>5</td>\n",
       "      <td>0.11</td>\n",
       "      <td>0.30</td>\n",
       "      <td>0.6000</td>\n",
       "      <td>7.5000</td>\n",
       "      <td>0.83333</td>\n",
       "      <td>...</td>\n",
       "      <td>4350</td>\n",
       "      <td>0.6291</td>\n",
       "      <td>0.0011</td>\n",
       "      <td>0.0557</td>\n",
       "      <td>0.8630</td>\n",
       "      <td>0.4811</td>\n",
       "      <td>0.0646</td>\n",
       "      <td>0.3097</td>\n",
       "      <td>0.6257</td>\n",
       "      <td>0.250111</td>\n",
       "    </tr>\n",
       "    <tr>\n",
       "      <th>1</th>\n",
       "      <td>43</td>\n",
       "      <td>57</td>\n",
       "      <td>2</td>\n",
       "      <td>1</td>\n",
       "      <td>5</td>\n",
       "      <td>0.00</td>\n",
       "      <td>0.00</td>\n",
       "      <td>0.0000</td>\n",
       "      <td>24.2500</td>\n",
       "      <td>0.25773</td>\n",
       "      <td>...</td>\n",
       "      <td>1023</td>\n",
       "      <td>0.1887</td>\n",
       "      <td>0.0039</td>\n",
       "      <td>0.4495</td>\n",
       "      <td>1.0000</td>\n",
       "      <td>0.6109</td>\n",
       "      <td>1.0000</td>\n",
       "      <td>0.0000</td>\n",
       "      <td>0.0000</td>\n",
       "      <td>0.816571</td>\n",
       "    </tr>\n",
       "    <tr>\n",
       "      <th>2</th>\n",
       "      <td>43</td>\n",
       "      <td>57</td>\n",
       "      <td>2</td>\n",
       "      <td>1</td>\n",
       "      <td>5</td>\n",
       "      <td>0.78</td>\n",
       "      <td>1.10</td>\n",
       "      <td>2.1786</td>\n",
       "      <td>24.2500</td>\n",
       "      <td>0.25773</td>\n",
       "      <td>...</td>\n",
       "      <td>0</td>\n",
       "      <td>0.0000</td>\n",
       "      <td>0.0000</td>\n",
       "      <td>0.0000</td>\n",
       "      <td>0.0000</td>\n",
       "      <td>0.0000</td>\n",
       "      <td>0.0000</td>\n",
       "      <td>0.0000</td>\n",
       "      <td>0.0000</td>\n",
       "      <td>1.035484</td>\n",
       "    </tr>\n",
       "    <tr>\n",
       "      <th>3</th>\n",
       "      <td>43</td>\n",
       "      <td>57</td>\n",
       "      <td>2</td>\n",
       "      <td>1</td>\n",
       "      <td>5</td>\n",
       "      <td>0.78</td>\n",
       "      <td>1.10</td>\n",
       "      <td>2.1786</td>\n",
       "      <td>24.2500</td>\n",
       "      <td>0.25773</td>\n",
       "      <td>...</td>\n",
       "      <td>1038</td>\n",
       "      <td>0.5028</td>\n",
       "      <td>0.0019</td>\n",
       "      <td>0.1883</td>\n",
       "      <td>0.6474</td>\n",
       "      <td>0.9595</td>\n",
       "      <td>1.0000</td>\n",
       "      <td>0.0000</td>\n",
       "      <td>0.0000</td>\n",
       "      <td>0.351807</td>\n",
       "    </tr>\n",
       "    <tr>\n",
       "      <th>4</th>\n",
       "      <td>43</td>\n",
       "      <td>29</td>\n",
       "      <td>2</td>\n",
       "      <td>1</td>\n",
       "      <td>5</td>\n",
       "      <td>4.56</td>\n",
       "      <td>4.56</td>\n",
       "      <td>4.5626</td>\n",
       "      <td>0.0001</td>\n",
       "      <td>1.00000</td>\n",
       "      <td>...</td>\n",
       "      <td>27</td>\n",
       "      <td>0.0093</td>\n",
       "      <td>0.4444</td>\n",
       "      <td>0.8750</td>\n",
       "      <td>1.0000</td>\n",
       "      <td>1.0000</td>\n",
       "      <td>1.0000</td>\n",
       "      <td>0.0000</td>\n",
       "      <td>0.0000</td>\n",
       "      <td>0.067901</td>\n",
       "    </tr>\n",
       "  </tbody>\n",
       "</table>\n",
       "<p>5 rows × 21 columns</p>\n",
       "</div>"
      ],
      "text/plain": [
       "   companyId  countryId  deviceType  day  dow  price1  price2  price3  \\\n",
       "0         95        234           1    1    5    0.11    0.30  0.6000   \n",
       "1         43         57           2    1    5    0.00    0.00  0.0000   \n",
       "2         43         57           2    1    5    0.78    1.10  2.1786   \n",
       "3         43         57           2    1    5    0.78    1.10  2.1786   \n",
       "4         43         29           2    1    5    4.56    4.56  4.5626   \n",
       "\n",
       "   ad_area  ad_ratio  ...  impression     cpc     ctr  viewability  ratio1  \\\n",
       "0   7.5000   0.83333  ...        4350  0.6291  0.0011       0.0557  0.8630   \n",
       "1  24.2500   0.25773  ...        1023  0.1887  0.0039       0.4495  1.0000   \n",
       "2  24.2500   0.25773  ...           0  0.0000  0.0000       0.0000  0.0000   \n",
       "3  24.2500   0.25773  ...        1038  0.5028  0.0019       0.1883  0.6474   \n",
       "4   0.0001   1.00000  ...          27  0.0093  0.4444       0.8750  1.0000   \n",
       "\n",
       "   ratio2  ratio3  ratio4  ratio5         y  \n",
       "0  0.4811  0.0646  0.3097  0.6257  0.250111  \n",
       "1  0.6109  1.0000  0.0000  0.0000  0.816571  \n",
       "2  0.0000  0.0000  0.0000  0.0000  1.035484  \n",
       "3  0.9595  1.0000  0.0000  0.0000  0.351807  \n",
       "4  1.0000  1.0000  0.0000  0.0000  0.067901  \n",
       "\n",
       "[5 rows x 21 columns]"
      ]
     },
     "execution_count": 3,
     "metadata": {},
     "output_type": "execute_result"
    }
   ],
   "source": [
    "# drop the meaningless column called \"Unnamed\"\n",
    "clean = clean.iloc[:,1:22] \n",
    "clean.head()"
   ]
  },
  {
   "cell_type": "code",
   "execution_count": 4,
   "metadata": {},
   "outputs": [
    {
     "data": {
      "text/plain": [
       "companyId        int64\n",
       "countryId        int64\n",
       "deviceType       int64\n",
       "day              int64\n",
       "dow              int64\n",
       "price1         float64\n",
       "price2         float64\n",
       "price3         float64\n",
       "ad_area        float64\n",
       "ad_ratio       float64\n",
       "requests         int64\n",
       "impression       int64\n",
       "cpc            float64\n",
       "ctr            float64\n",
       "viewability    float64\n",
       "ratio1         float64\n",
       "ratio2         float64\n",
       "ratio3         float64\n",
       "ratio4         float64\n",
       "ratio5         float64\n",
       "y              float64\n",
       "dtype: object"
      ]
     },
     "execution_count": 4,
     "metadata": {},
     "output_type": "execute_result"
    }
   ],
   "source": [
    "# check again the data structures, \n",
    "clean.dtypes "
   ]
  },
  {
   "cell_type": "markdown",
   "metadata": {},
   "source": [
    "All features are numerical now and ready for any transformation and regressor algorithm."
   ]
  },
  {
   "cell_type": "code",
   "execution_count": 5,
   "metadata": {},
   "outputs": [
    {
     "data": {
      "text/plain": [
       "(214128, 21)"
      ]
     },
     "execution_count": 5,
     "metadata": {},
     "output_type": "execute_result"
    }
   ],
   "source": [
    "# The dimension is correct, the orginal dataset minus one \"case_id\" column, as case_id carries no information\n",
    "clean.shape "
   ]
  },
  {
   "cell_type": "code",
   "execution_count": 6,
   "metadata": {},
   "outputs": [
    {
     "data": {
      "text/plain": [
       "companyId      0\n",
       "countryId      0\n",
       "deviceType     0\n",
       "day            0\n",
       "dow            0\n",
       "price1         0\n",
       "price2         0\n",
       "price3         0\n",
       "ad_area        0\n",
       "ad_ratio       0\n",
       "requests       0\n",
       "impression     0\n",
       "cpc            0\n",
       "ctr            0\n",
       "viewability    0\n",
       "ratio1         0\n",
       "ratio2         0\n",
       "ratio3         0\n",
       "ratio4         0\n",
       "ratio5         0\n",
       "y              0\n",
       "dtype: int64"
      ]
     },
     "execution_count": 6,
     "metadata": {},
     "output_type": "execute_result"
    }
   ],
   "source": [
    "#make sure there is no missing values\n",
    "clean.isna().sum()"
   ]
  },
  {
   "cell_type": "markdown",
   "metadata": {},
   "source": [
    "### Summary Statistics"
   ]
  },
  {
   "cell_type": "code",
   "execution_count": 7,
   "metadata": {},
   "outputs": [
    {
     "data": {
      "text/html": [
       "<div>\n",
       "<style scoped>\n",
       "    .dataframe tbody tr th:only-of-type {\n",
       "        vertical-align: middle;\n",
       "    }\n",
       "\n",
       "    .dataframe tbody tr th {\n",
       "        vertical-align: top;\n",
       "    }\n",
       "\n",
       "    .dataframe thead th {\n",
       "        text-align: right;\n",
       "    }\n",
       "</style>\n",
       "<table border=\"1\" class=\"dataframe\">\n",
       "  <thead>\n",
       "    <tr style=\"text-align: right;\">\n",
       "      <th></th>\n",
       "      <th>companyId</th>\n",
       "      <th>countryId</th>\n",
       "      <th>deviceType</th>\n",
       "      <th>day</th>\n",
       "      <th>dow</th>\n",
       "      <th>price1</th>\n",
       "      <th>price2</th>\n",
       "      <th>price3</th>\n",
       "      <th>ad_area</th>\n",
       "      <th>ad_ratio</th>\n",
       "      <th>...</th>\n",
       "      <th>impression</th>\n",
       "      <th>cpc</th>\n",
       "      <th>ctr</th>\n",
       "      <th>viewability</th>\n",
       "      <th>ratio1</th>\n",
       "      <th>ratio2</th>\n",
       "      <th>ratio3</th>\n",
       "      <th>ratio4</th>\n",
       "      <th>ratio5</th>\n",
       "      <th>y</th>\n",
       "    </tr>\n",
       "  </thead>\n",
       "  <tbody>\n",
       "    <tr>\n",
       "      <th>count</th>\n",
       "      <td>214128.000000</td>\n",
       "      <td>214128.000000</td>\n",
       "      <td>214128.000000</td>\n",
       "      <td>214128.000000</td>\n",
       "      <td>214128.000000</td>\n",
       "      <td>214128.000000</td>\n",
       "      <td>214128.000000</td>\n",
       "      <td>214128.000000</td>\n",
       "      <td>214128.000000</td>\n",
       "      <td>214128.000000</td>\n",
       "      <td>...</td>\n",
       "      <td>2.141280e+05</td>\n",
       "      <td>214128.000000</td>\n",
       "      <td>214128.000000</td>\n",
       "      <td>214128.000000</td>\n",
       "      <td>214128.000000</td>\n",
       "      <td>214128.000000</td>\n",
       "      <td>214128.000000</td>\n",
       "      <td>214128.000000</td>\n",
       "      <td>214128.000000</td>\n",
       "      <td>214128.000000</td>\n",
       "    </tr>\n",
       "    <tr>\n",
       "      <th>mean</th>\n",
       "      <td>73.332988</td>\n",
       "      <td>119.496180</td>\n",
       "      <td>1.875612</td>\n",
       "      <td>15.790522</td>\n",
       "      <td>3.103737</td>\n",
       "      <td>0.438229</td>\n",
       "      <td>0.630178</td>\n",
       "      <td>0.932436</td>\n",
       "      <td>4.724445</td>\n",
       "      <td>0.923402</td>\n",
       "      <td>...</td>\n",
       "      <td>5.585714e+03</td>\n",
       "      <td>0.177862</td>\n",
       "      <td>0.032921</td>\n",
       "      <td>0.377929</td>\n",
       "      <td>0.558284</td>\n",
       "      <td>0.491079</td>\n",
       "      <td>0.311646</td>\n",
       "      <td>0.131008</td>\n",
       "      <td>0.188300</td>\n",
       "      <td>0.847004</td>\n",
       "    </tr>\n",
       "    <tr>\n",
       "      <th>std</th>\n",
       "      <td>47.817556</td>\n",
       "      <td>76.129206</td>\n",
       "      <td>0.787796</td>\n",
       "      <td>8.385557</td>\n",
       "      <td>2.035861</td>\n",
       "      <td>1.281403</td>\n",
       "      <td>1.481552</td>\n",
       "      <td>1.839991</td>\n",
       "      <td>6.273410</td>\n",
       "      <td>0.482055</td>\n",
       "      <td>...</td>\n",
       "      <td>9.871334e+04</td>\n",
       "      <td>0.707260</td>\n",
       "      <td>0.092502</td>\n",
       "      <td>0.365938</td>\n",
       "      <td>0.446955</td>\n",
       "      <td>0.414312</td>\n",
       "      <td>0.444088</td>\n",
       "      <td>0.239758</td>\n",
       "      <td>0.297121</td>\n",
       "      <td>1.390593</td>\n",
       "    </tr>\n",
       "    <tr>\n",
       "      <th>min</th>\n",
       "      <td>40.000000</td>\n",
       "      <td>1.000000</td>\n",
       "      <td>1.000000</td>\n",
       "      <td>1.000000</td>\n",
       "      <td>0.000000</td>\n",
       "      <td>0.000000</td>\n",
       "      <td>0.000000</td>\n",
       "      <td>0.000000</td>\n",
       "      <td>0.000100</td>\n",
       "      <td>0.083330</td>\n",
       "      <td>...</td>\n",
       "      <td>0.000000e+00</td>\n",
       "      <td>0.000000</td>\n",
       "      <td>0.000000</td>\n",
       "      <td>0.000000</td>\n",
       "      <td>0.000000</td>\n",
       "      <td>0.000000</td>\n",
       "      <td>0.000000</td>\n",
       "      <td>0.000000</td>\n",
       "      <td>0.000000</td>\n",
       "      <td>0.000098</td>\n",
       "    </tr>\n",
       "    <tr>\n",
       "      <th>25%</th>\n",
       "      <td>43.000000</td>\n",
       "      <td>56.000000</td>\n",
       "      <td>1.000000</td>\n",
       "      <td>9.000000</td>\n",
       "      <td>1.000000</td>\n",
       "      <td>0.000000</td>\n",
       "      <td>0.000000</td>\n",
       "      <td>0.000000</td>\n",
       "      <td>0.000100</td>\n",
       "      <td>0.833330</td>\n",
       "      <td>...</td>\n",
       "      <td>0.000000e+00</td>\n",
       "      <td>0.000000</td>\n",
       "      <td>0.000000</td>\n",
       "      <td>0.000000</td>\n",
       "      <td>0.000000</td>\n",
       "      <td>0.000000</td>\n",
       "      <td>0.000000</td>\n",
       "      <td>0.000000</td>\n",
       "      <td>0.000000</td>\n",
       "      <td>0.150415</td>\n",
       "    </tr>\n",
       "    <tr>\n",
       "      <th>50%</th>\n",
       "      <td>43.000000</td>\n",
       "      <td>102.000000</td>\n",
       "      <td>2.000000</td>\n",
       "      <td>16.000000</td>\n",
       "      <td>3.000000</td>\n",
       "      <td>0.010000</td>\n",
       "      <td>0.090000</td>\n",
       "      <td>0.294800</td>\n",
       "      <td>0.000100</td>\n",
       "      <td>1.000000</td>\n",
       "      <td>...</td>\n",
       "      <td>9.900000e+01</td>\n",
       "      <td>0.015700</td>\n",
       "      <td>0.001700</td>\n",
       "      <td>0.331500</td>\n",
       "      <td>0.750000</td>\n",
       "      <td>0.627100</td>\n",
       "      <td>0.027600</td>\n",
       "      <td>0.000000</td>\n",
       "      <td>0.000000</td>\n",
       "      <td>0.419000</td>\n",
       "    </tr>\n",
       "    <tr>\n",
       "      <th>75%</th>\n",
       "      <td>95.000000</td>\n",
       "      <td>197.000000</td>\n",
       "      <td>2.000000</td>\n",
       "      <td>23.000000</td>\n",
       "      <td>5.000000</td>\n",
       "      <td>0.190000</td>\n",
       "      <td>0.570000</td>\n",
       "      <td>0.985650</td>\n",
       "      <td>7.500000</td>\n",
       "      <td>1.000000</td>\n",
       "      <td>...</td>\n",
       "      <td>1.058000e+03</td>\n",
       "      <td>0.125200</td>\n",
       "      <td>0.012000</td>\n",
       "      <td>0.715900</td>\n",
       "      <td>1.000000</td>\n",
       "      <td>0.895700</td>\n",
       "      <td>1.000000</td>\n",
       "      <td>0.163600</td>\n",
       "      <td>0.384700</td>\n",
       "      <td>0.959048</td>\n",
       "    </tr>\n",
       "    <tr>\n",
       "      <th>max</th>\n",
       "      <td>159.000000</td>\n",
       "      <td>251.000000</td>\n",
       "      <td>5.000000</td>\n",
       "      <td>30.000000</td>\n",
       "      <td>6.000000</td>\n",
       "      <td>14.690000</td>\n",
       "      <td>63.120000</td>\n",
       "      <td>78.900000</td>\n",
       "      <td>36.000000</td>\n",
       "      <td>5.000000</td>\n",
       "      <td>...</td>\n",
       "      <td>6.100324e+06</td>\n",
       "      <td>132.533900</td>\n",
       "      <td>2.000000</td>\n",
       "      <td>7.000000</td>\n",
       "      <td>1.000000</td>\n",
       "      <td>1.027000</td>\n",
       "      <td>1.500000</td>\n",
       "      <td>1.076900</td>\n",
       "      <td>1.200000</td>\n",
       "      <td>47.060000</td>\n",
       "    </tr>\n",
       "  </tbody>\n",
       "</table>\n",
       "<p>8 rows × 21 columns</p>\n",
       "</div>"
      ],
      "text/plain": [
       "           companyId      countryId     deviceType            day  \\\n",
       "count  214128.000000  214128.000000  214128.000000  214128.000000   \n",
       "mean       73.332988     119.496180       1.875612      15.790522   \n",
       "std        47.817556      76.129206       0.787796       8.385557   \n",
       "min        40.000000       1.000000       1.000000       1.000000   \n",
       "25%        43.000000      56.000000       1.000000       9.000000   \n",
       "50%        43.000000     102.000000       2.000000      16.000000   \n",
       "75%        95.000000     197.000000       2.000000      23.000000   \n",
       "max       159.000000     251.000000       5.000000      30.000000   \n",
       "\n",
       "                 dow         price1         price2         price3  \\\n",
       "count  214128.000000  214128.000000  214128.000000  214128.000000   \n",
       "mean        3.103737       0.438229       0.630178       0.932436   \n",
       "std         2.035861       1.281403       1.481552       1.839991   \n",
       "min         0.000000       0.000000       0.000000       0.000000   \n",
       "25%         1.000000       0.000000       0.000000       0.000000   \n",
       "50%         3.000000       0.010000       0.090000       0.294800   \n",
       "75%         5.000000       0.190000       0.570000       0.985650   \n",
       "max         6.000000      14.690000      63.120000      78.900000   \n",
       "\n",
       "             ad_area       ad_ratio  ...    impression            cpc  \\\n",
       "count  214128.000000  214128.000000  ...  2.141280e+05  214128.000000   \n",
       "mean        4.724445       0.923402  ...  5.585714e+03       0.177862   \n",
       "std         6.273410       0.482055  ...  9.871334e+04       0.707260   \n",
       "min         0.000100       0.083330  ...  0.000000e+00       0.000000   \n",
       "25%         0.000100       0.833330  ...  0.000000e+00       0.000000   \n",
       "50%         0.000100       1.000000  ...  9.900000e+01       0.015700   \n",
       "75%         7.500000       1.000000  ...  1.058000e+03       0.125200   \n",
       "max        36.000000       5.000000  ...  6.100324e+06     132.533900   \n",
       "\n",
       "                 ctr    viewability         ratio1         ratio2  \\\n",
       "count  214128.000000  214128.000000  214128.000000  214128.000000   \n",
       "mean        0.032921       0.377929       0.558284       0.491079   \n",
       "std         0.092502       0.365938       0.446955       0.414312   \n",
       "min         0.000000       0.000000       0.000000       0.000000   \n",
       "25%         0.000000       0.000000       0.000000       0.000000   \n",
       "50%         0.001700       0.331500       0.750000       0.627100   \n",
       "75%         0.012000       0.715900       1.000000       0.895700   \n",
       "max         2.000000       7.000000       1.000000       1.027000   \n",
       "\n",
       "              ratio3         ratio4         ratio5              y  \n",
       "count  214128.000000  214128.000000  214128.000000  214128.000000  \n",
       "mean        0.311646       0.131008       0.188300       0.847004  \n",
       "std         0.444088       0.239758       0.297121       1.390593  \n",
       "min         0.000000       0.000000       0.000000       0.000098  \n",
       "25%         0.000000       0.000000       0.000000       0.150415  \n",
       "50%         0.027600       0.000000       0.000000       0.419000  \n",
       "75%         1.000000       0.163600       0.384700       0.959048  \n",
       "max         1.500000       1.076900       1.200000      47.060000  \n",
       "\n",
       "[8 rows x 21 columns]"
      ]
     },
     "execution_count": 7,
     "metadata": {},
     "output_type": "execute_result"
    }
   ],
   "source": [
    "clean.describe(include = 'all')"
   ]
  },
  {
   "cell_type": "markdown",
   "metadata": {},
   "source": [
    "### Partitioning dataset into the set of descriptive features and the target feature"
   ]
  },
  {
   "cell_type": "code",
   "execution_count": 8,
   "metadata": {},
   "outputs": [],
   "source": [
    "#create a dataset with the set of descriptive features and name it \"data\"\n",
    "Data = clean.drop(columns='y')"
   ]
  },
  {
   "cell_type": "code",
   "execution_count": 9,
   "metadata": {},
   "outputs": [],
   "source": [
    "#remove target feature form the descriptive feature set and name it \"target\"\n",
    "Target = clean['y']"
   ]
  },
  {
   "cell_type": "code",
   "execution_count": 10,
   "metadata": {},
   "outputs": [],
   "source": [
    "#make a copy of the original data\n",
    "Data_unscaled = Data.copy()"
   ]
  },
  {
   "cell_type": "markdown",
   "metadata": {},
   "source": [
    "### 2.1 Scaling of features\n",
    "\n",
    "In this project, both scaled and unscaled data will be used to train the machine learning algorithms. MinMax Scaler and the Standard Scaler will be considered for the k Nearest Neighbour algorithm and unscaled data will be used for the Decision Tree and Random Forest algorithms. The reason for this is when using the Euclidean distance of the k Nearest Neighbour, the distance is sensitive to magnitudes and hence all features should be transformed to a comparable scale, whereas the tree-based models are not depending on the distance, and can handle different range of feature values, so original (unscaled) data will used to train the both Decision Tree and Random Forest [8]. This is implemented by separately storing the transformation and unscaled data into different objects, so choose the correct data before training the learner algorithms. Another advantage of storing the scaler object is that, before predicting new data, the stored scaler allows the new data to undergo same transformation as the training data [4]. After that, the predicted values are also able to be transformed back to the original scale using the inverse_transform function.\n",
    "\n",
    "\n",
    "Due to only some of the columns in the original dataset has been normalised, for example, there are still features like ‘requests’ ranges from 0 to 6701924; ‘price3’  ranges from 0 to 78.9, ‘ad_area’ ranges 0 to 35, ‘ratio3’ ranges 0 to 1.5 and ‘companyId’ ranges from 40 to 159, the target feature ‘y’ (revenue) ranges from 0 to 47.06. Since all of these features are not in a consistent scale, MinMax scaler will be applied to put all features on the same baseline, in order to produce better learning result by the distance-based algorithm.\n",
    "\n",
    "\n",
    "The MinMax Scaler returns feature values between zero and one by subtracting the minimum then divided by the difference between the maximum and minimum feature values. MinMax Scaler is chosen as the default transformation on data because it preserves the original shape of the data distribution and hence the information contained in the original data is also preserved [7]."
   ]
  },
  {
   "cell_type": "code",
   "execution_count": 11,
   "metadata": {},
   "outputs": [
    {
     "name": "stderr",
     "output_type": "stream",
     "text": [
      "/Users/shelneegan/Desktop/anaconda2/envs/Python3/lib/python3.7/site-packages/sklearn/preprocessing/data.py:334: DataConversionWarning: Data with input dtype int64, float64 were all converted to float64 by MinMaxScaler.\n",
      "  return self.partial_fit(X, y)\n"
     ]
    }
   ],
   "source": [
    "#perfrom a min-max scaling of the descriptive features\n",
    "Data_scaler = preprocessing.MinMaxScaler().fit_transform(Data)"
   ]
  },
  {
   "cell_type": "code",
   "execution_count": 12,
   "metadata": {},
   "outputs": [
    {
     "data": {
      "text/html": [
       "<div>\n",
       "<style scoped>\n",
       "    .dataframe tbody tr th:only-of-type {\n",
       "        vertical-align: middle;\n",
       "    }\n",
       "\n",
       "    .dataframe tbody tr th {\n",
       "        vertical-align: top;\n",
       "    }\n",
       "\n",
       "    .dataframe thead th {\n",
       "        text-align: right;\n",
       "    }\n",
       "</style>\n",
       "<table border=\"1\" class=\"dataframe\">\n",
       "  <thead>\n",
       "    <tr style=\"text-align: right;\">\n",
       "      <th></th>\n",
       "      <th>companyId</th>\n",
       "      <th>countryId</th>\n",
       "      <th>deviceType</th>\n",
       "      <th>day</th>\n",
       "      <th>dow</th>\n",
       "      <th>price1</th>\n",
       "      <th>price2</th>\n",
       "      <th>price3</th>\n",
       "      <th>ad_area</th>\n",
       "      <th>ad_ratio</th>\n",
       "      <th>requests</th>\n",
       "      <th>impression</th>\n",
       "      <th>cpc</th>\n",
       "      <th>ctr</th>\n",
       "      <th>viewability</th>\n",
       "      <th>ratio1</th>\n",
       "      <th>ratio2</th>\n",
       "      <th>ratio3</th>\n",
       "      <th>ratio4</th>\n",
       "      <th>ratio5</th>\n",
       "    </tr>\n",
       "  </thead>\n",
       "  <tbody>\n",
       "    <tr>\n",
       "      <th>107170</th>\n",
       "      <td>0.025210</td>\n",
       "      <td>0.312</td>\n",
       "      <td>0.25</td>\n",
       "      <td>0.517241</td>\n",
       "      <td>1.000000</td>\n",
       "      <td>0.024506</td>\n",
       "      <td>0.015843</td>\n",
       "      <td>0.025416</td>\n",
       "      <td>0.000000</td>\n",
       "      <td>0.186441</td>\n",
       "      <td>0.000015</td>\n",
       "      <td>0.000009</td>\n",
       "      <td>0.000142</td>\n",
       "      <td>0.01885</td>\n",
       "      <td>0.142857</td>\n",
       "      <td>0.3396</td>\n",
       "      <td>0.973710</td>\n",
       "      <td>0.666667</td>\n",
       "      <td>0.000000</td>\n",
       "      <td>0.000000</td>\n",
       "    </tr>\n",
       "    <tr>\n",
       "      <th>105171</th>\n",
       "      <td>1.000000</td>\n",
       "      <td>0.732</td>\n",
       "      <td>0.00</td>\n",
       "      <td>0.517241</td>\n",
       "      <td>1.000000</td>\n",
       "      <td>0.000681</td>\n",
       "      <td>0.003327</td>\n",
       "      <td>0.005343</td>\n",
       "      <td>0.000000</td>\n",
       "      <td>0.186441</td>\n",
       "      <td>0.000000</td>\n",
       "      <td>0.000000</td>\n",
       "      <td>0.000000</td>\n",
       "      <td>0.00000</td>\n",
       "      <td>0.000000</td>\n",
       "      <td>0.0000</td>\n",
       "      <td>0.000000</td>\n",
       "      <td>0.000000</td>\n",
       "      <td>0.000000</td>\n",
       "      <td>0.000000</td>\n",
       "    </tr>\n",
       "    <tr>\n",
       "      <th>203089</th>\n",
       "      <td>1.000000</td>\n",
       "      <td>0.756</td>\n",
       "      <td>0.00</td>\n",
       "      <td>0.965517</td>\n",
       "      <td>0.833333</td>\n",
       "      <td>0.000681</td>\n",
       "      <td>0.000951</td>\n",
       "      <td>0.004167</td>\n",
       "      <td>0.208331</td>\n",
       "      <td>0.152542</td>\n",
       "      <td>0.001419</td>\n",
       "      <td>0.001414</td>\n",
       "      <td>0.000410</td>\n",
       "      <td>0.00040</td>\n",
       "      <td>0.026857</td>\n",
       "      <td>0.5642</td>\n",
       "      <td>0.971373</td>\n",
       "      <td>0.069467</td>\n",
       "      <td>0.098616</td>\n",
       "      <td>0.657500</td>\n",
       "    </tr>\n",
       "    <tr>\n",
       "      <th>43686</th>\n",
       "      <td>0.025210</td>\n",
       "      <td>0.148</td>\n",
       "      <td>0.50</td>\n",
       "      <td>0.206897</td>\n",
       "      <td>0.666667</td>\n",
       "      <td>0.016338</td>\n",
       "      <td>0.010139</td>\n",
       "      <td>0.016322</td>\n",
       "      <td>0.077997</td>\n",
       "      <td>0.009128</td>\n",
       "      <td>0.000165</td>\n",
       "      <td>0.000147</td>\n",
       "      <td>0.003602</td>\n",
       "      <td>0.00055</td>\n",
       "      <td>0.053486</td>\n",
       "      <td>0.8320</td>\n",
       "      <td>0.960759</td>\n",
       "      <td>0.000000</td>\n",
       "      <td>0.720958</td>\n",
       "      <td>0.186333</td>\n",
       "    </tr>\n",
       "    <tr>\n",
       "      <th>75145</th>\n",
       "      <td>0.462185</td>\n",
       "      <td>0.932</td>\n",
       "      <td>0.50</td>\n",
       "      <td>0.379310</td>\n",
       "      <td>0.333333</td>\n",
       "      <td>0.006127</td>\n",
       "      <td>0.015209</td>\n",
       "      <td>0.024208</td>\n",
       "      <td>0.499999</td>\n",
       "      <td>0.389831</td>\n",
       "      <td>0.000506</td>\n",
       "      <td>0.000377</td>\n",
       "      <td>0.004953</td>\n",
       "      <td>0.00150</td>\n",
       "      <td>0.039786</td>\n",
       "      <td>0.8636</td>\n",
       "      <td>0.576144</td>\n",
       "      <td>0.004333</td>\n",
       "      <td>0.626428</td>\n",
       "      <td>0.265750</td>\n",
       "    </tr>\n",
       "  </tbody>\n",
       "</table>\n",
       "</div>"
      ],
      "text/plain": [
       "        companyId  countryId  deviceType       day       dow    price1  \\\n",
       "107170   0.025210      0.312        0.25  0.517241  1.000000  0.024506   \n",
       "105171   1.000000      0.732        0.00  0.517241  1.000000  0.000681   \n",
       "203089   1.000000      0.756        0.00  0.965517  0.833333  0.000681   \n",
       "43686    0.025210      0.148        0.50  0.206897  0.666667  0.016338   \n",
       "75145    0.462185      0.932        0.50  0.379310  0.333333  0.006127   \n",
       "\n",
       "          price2    price3   ad_area  ad_ratio  requests  impression  \\\n",
       "107170  0.015843  0.025416  0.000000  0.186441  0.000015    0.000009   \n",
       "105171  0.003327  0.005343  0.000000  0.186441  0.000000    0.000000   \n",
       "203089  0.000951  0.004167  0.208331  0.152542  0.001419    0.001414   \n",
       "43686   0.010139  0.016322  0.077997  0.009128  0.000165    0.000147   \n",
       "75145   0.015209  0.024208  0.499999  0.389831  0.000506    0.000377   \n",
       "\n",
       "             cpc      ctr  viewability  ratio1    ratio2    ratio3    ratio4  \\\n",
       "107170  0.000142  0.01885     0.142857  0.3396  0.973710  0.666667  0.000000   \n",
       "105171  0.000000  0.00000     0.000000  0.0000  0.000000  0.000000  0.000000   \n",
       "203089  0.000410  0.00040     0.026857  0.5642  0.971373  0.069467  0.098616   \n",
       "43686   0.003602  0.00055     0.053486  0.8320  0.960759  0.000000  0.720958   \n",
       "75145   0.004953  0.00150     0.039786  0.8636  0.576144  0.004333  0.626428   \n",
       "\n",
       "          ratio5  \n",
       "107170  0.000000  \n",
       "105171  0.000000  \n",
       "203089  0.657500  \n",
       "43686   0.186333  \n",
       "75145   0.265750  "
      ]
     },
     "execution_count": 12,
     "metadata": {},
     "output_type": "execute_result"
    }
   ],
   "source": [
    "#check the descriptive features after scaling\n",
    "pd.DataFrame(Data_scaler, columns=Data.columns).sample(5, random_state=999)"
   ]
  },
  {
   "cell_type": "markdown",
   "metadata": {},
   "source": [
    "### 2.2. Data Sampling & Train-Test Splitting\n"
   ]
  },
  {
   "cell_type": "markdown",
   "metadata": {},
   "source": [
    "#### Data Sampling \n",
    "\n",
    "The original dataset has more than 21 thousand rows, so we subset the data to a small sample (5000 rows) to work with. "
   ]
  },
  {
   "cell_type": "code",
   "execution_count": 13,
   "metadata": {},
   "outputs": [],
   "source": [
    "n_samples = 5000\n",
    "\n",
    "Data_scaled_sample = pd.DataFrame(Data_scaler).sample(n=n_samples, random_state=999).values\n",
    "Data_unscaled_sample = pd.DataFrame(Data_unscaled).sample(n=n_samples, random_state=999).values\n",
    "Target_sample = pd.DataFrame(Target).sample(n=n_samples, random_state=999).values"
   ]
  },
  {
   "cell_type": "code",
   "execution_count": 14,
   "metadata": {},
   "outputs": [
    {
     "name": "stdout",
     "output_type": "stream",
     "text": [
      "<class 'numpy.ndarray'>\n",
      "<class 'numpy.ndarray'>\n",
      "<class 'numpy.ndarray'>\n",
      "(5000, 20)\n",
      "(5000, 20)\n",
      "(5000, 1)\n"
     ]
    }
   ],
   "source": [
    "#check to see both the data and the target are \"NumPy\" aeeays and they have excactly 5000 rows now \n",
    "print(type(Data_scaled_sample))\n",
    "print(type(Data_unscaled_sample))\n",
    "print(type(Target_sample))\n",
    "\n",
    "print(Data_scaled_sample.shape)\n",
    "print(Data_unscaled_sample.shape)\n",
    "print(Target_sample.shape)"
   ]
  },
  {
   "cell_type": "markdown",
   "metadata": {},
   "source": [
    "#### Spliting Data into Training and Test Sets\n",
    "\n",
    "For evaluation purpose, the entire dataset has been split in to a 8:2 train/test set, that means 80% of the entire data is used to train the learner algorithms and 20% of the data is used to evaluate the learned algorithms. This is combined with cross validation which is explained in the next sub section."
   ]
  },
  {
   "cell_type": "code",
   "execution_count": 15,
   "metadata": {},
   "outputs": [
    {
     "name": "stdout",
     "output_type": "stream",
     "text": [
      "(4000, 20)\n",
      "(1000, 20)\n"
     ]
    }
   ],
   "source": [
    "from sklearn.model_selection import train_test_split \n",
    "\n",
    "#split by using scaled data \n",
    "Data_scaled_sample_train, Data_scaled_sample_test, \\\n",
    "target_sample_train, target_sample_test = train_test_split(Data_scaled_sample, Target_sample, \n",
    "                                                    test_size = 0.2, random_state=999)\n",
    "                                                    \n",
    "\n",
    "print(Data_scaled_sample_train.shape)\n",
    "print(Data_scaled_sample_test.shape)"
   ]
  },
  {
   "cell_type": "code",
   "execution_count": 16,
   "metadata": {},
   "outputs": [
    {
     "name": "stdout",
     "output_type": "stream",
     "text": [
      "(4000, 20)\n",
      "(1000, 20)\n"
     ]
    }
   ],
   "source": [
    "#split by using unscaled data  \n",
    "\n",
    "Data_unscaled_sample_train, Data_unscaled_sample_test, \\\n",
    "target_sample_train, target_sample_test = train_test_split(Data_unscaled_sample, Target_sample, \n",
    "                                                    test_size = 0.2, random_state=999)\n",
    "                                                    \n",
    "\n",
    "print(Data_unscaled_sample_train.shape)\n",
    "print(Data_unscaled_sample_test.shape)"
   ]
  },
  {
   "cell_type": "markdown",
   "metadata": {},
   "source": [
    "## 3. Fine Tunning of Each Regressor Algorithm\n",
    "\n",
    "### 3.1  Feature Selection\n",
    "\n",
    "This section uses the Random Forest Importance, as this feature selection approach works well on the numerical features and proved to have low variability before and after scaling. Although feature selection can be done by pipeline in one step, but to illustrate the most important five features, visualisations of the ranking of important features are provided. Especially illustrated by the figures below that, the third important features drops dramatically in the test score while the first two important features remain , which suggests the core or more important features are actually the ctr (click-through-rate) and cpc (cost-per-click). The same pattern is obtained given selecting five or ten important features out of 20. \n",
    "\n",
    "The random forest important method is a filter feature method that uses the total decrease in node impurities from splitting on a particular feature as averaged over all decision trees in the ensemble. For regression, it is measured by `residual sum of squares`.Below shows the most important 10 features selected by `Random Forest Importance` in the full dataset."
   ]
  },
  {
   "cell_type": "code",
   "execution_count": 17,
   "metadata": {},
   "outputs": [
    {
     "data": {
      "text/plain": [
       "array(['ctr', 'cpc', 'countryId', 'day', 'price2', 'price1', 'deviceType',\n",
       "       'requests', 'price3', 'dow'], dtype=object)"
      ]
     },
     "execution_count": 17,
     "metadata": {},
     "output_type": "execute_result"
    }
   ],
   "source": [
    "from sklearn.ensemble import RandomForestRegressor\n",
    "\n",
    "num_features = 10\n",
    "model_rfi = RandomForestRegressor(n_estimators=100)\n",
    "model_rfi.fit(Data_scaler, Target)\n",
    "fs_indices_rfi = np.argsort(model_rfi.feature_importances_)[::-1][0:num_features]\n",
    "\n",
    "best_features_rfi = clean.columns[fs_indices_rfi].values\n",
    "best_features_rfi"
   ]
  },
  {
   "cell_type": "code",
   "execution_count": 18,
   "metadata": {},
   "outputs": [
    {
     "data": {
      "text/plain": [
       "array([0.21198814, 0.2091134 , 0.0948062 , 0.06727305, 0.05489291,\n",
       "       0.05246501, 0.04558615, 0.04258155, 0.04002184, 0.03856193])"
      ]
     },
     "execution_count": 18,
     "metadata": {},
     "output_type": "execute_result"
    }
   ],
   "source": [
    "feature_importances_rfi = model_rfi.feature_importances_[fs_indices_rfi]\n",
    "feature_importances_rfi"
   ]
  },
  {
   "cell_type": "code",
   "execution_count": 19,
   "metadata": {},
   "outputs": [],
   "source": [
    "#perform visualisation for these importances\n",
    "import altair as alt\n",
    "\n",
    "def plot_imp(best_features, scores, method_name, color):\n",
    "    \n",
    "    df = pd.DataFrame({'features': best_features, \n",
    "                       'importances': scores})\n",
    "    \n",
    "    chart = alt.Chart(df, \n",
    "                      width=500, \n",
    "                      title=method_name + ' Feature Importances'\n",
    "                     ).mark_bar(opacity=0.75, \n",
    "                                color=color).encode(\n",
    "        alt.X('features', title='Feature', sort=None, axis=alt.AxisConfig(labelAngle=45)),\n",
    "        alt.Y('importances', title='Importance')\n",
    "    )\n",
    "    \n",
    "    return chart"
   ]
  },
  {
   "cell_type": "code",
   "execution_count": 20,
   "metadata": {},
   "outputs": [
    {
     "data": {
      "text/plain": [
       "RendererRegistry.enable('notebook')"
      ]
     },
     "execution_count": 20,
     "metadata": {},
     "output_type": "execute_result"
    }
   ],
   "source": [
    "import altair as alt\n",
    "alt.renderers.enable('notebook')"
   ]
  },
  {
   "cell_type": "code",
   "execution_count": 21,
   "metadata": {},
   "outputs": [
    {
     "data": {
      "application/javascript": [
       "var spec = {\"config\": {\"view\": {\"width\": 400, \"height\": 300}, \"mark\": {\"tooltip\": null}}, \"data\": {\"name\": \"data-6c715db26cdbae9a868af89aca9d6e10\"}, \"mark\": {\"type\": \"bar\", \"color\": \"green\", \"opacity\": 0.75}, \"encoding\": {\"x\": {\"type\": \"nominal\", \"axis\": {\"labelAngle\": 45}, \"field\": \"features\", \"sort\": null, \"title\": \"Feature\"}, \"y\": {\"type\": \"quantitative\", \"field\": \"importances\", \"title\": \"Importance\"}}, \"title\": \"Random Forest Feature Importances\", \"width\": 500, \"$schema\": \"https://vega.github.io/schema/vega-lite/v3.2.1.json\", \"datasets\": {\"data-6c715db26cdbae9a868af89aca9d6e10\": [{\"features\": \"ctr\", \"importances\": 0.2119881361927948}, {\"features\": \"cpc\", \"importances\": 0.20911339691319897}, {\"features\": \"countryId\", \"importances\": 0.09480619878297991}, {\"features\": \"day\", \"importances\": 0.06727304878634477}, {\"features\": \"price2\", \"importances\": 0.05489291080195475}, {\"features\": \"price1\", \"importances\": 0.052465008839796}, {\"features\": \"deviceType\", \"importances\": 0.04558614511077643}, {\"features\": \"requests\", \"importances\": 0.04258155161486119}, {\"features\": \"price3\", \"importances\": 0.040021835280179656}, {\"features\": \"dow\", \"importances\": 0.03856193108119413}]}};\n",
       "var opt = {};\n",
       "var type = \"vega-lite\";\n",
       "var id = \"f5fc256e-4d44-480e-9a09-9e775714995f\";\n",
       "\n",
       "var output_area = this;\n",
       "\n",
       "require([\"nbextensions/jupyter-vega/index\"], function(vega) {\n",
       "  var target = document.createElement(\"div\");\n",
       "  target.id = id;\n",
       "  target.className = \"vega-embed\";\n",
       "\n",
       "  var style = document.createElement(\"style\");\n",
       "  style.textContent = [\n",
       "    \".vega-embed .error p {\",\n",
       "    \"  color: firebrick;\",\n",
       "    \"  font-size: 14px;\",\n",
       "    \"}\",\n",
       "  ].join(\"\\\\n\");\n",
       "\n",
       "  // element is a jQuery wrapped DOM element inside the output area\n",
       "  // see http://ipython.readthedocs.io/en/stable/api/generated/\\\n",
       "  // IPython.display.html#IPython.display.Javascript.__init__\n",
       "  element[0].appendChild(target);\n",
       "  element[0].appendChild(style);\n",
       "\n",
       "  vega.render(\"#\" + id, spec, type, opt, output_area);\n",
       "}, function (err) {\n",
       "  if (err.requireType !== \"scripterror\") {\n",
       "    throw(err);\n",
       "  }\n",
       "});\n"
      ],
      "text/plain": [
       "<vega.vegalite.VegaLite at 0x1a272c7b00>"
      ]
     },
     "metadata": {
      "jupyter-vega": "#f5fc256e-4d44-480e-9a09-9e775714995f"
     },
     "output_type": "display_data"
    },
    {
     "data": {
      "text/plain": []
     },
     "execution_count": 21,
     "metadata": {},
     "output_type": "execute_result"
    },
    {
     "data": {
      "image/png": "[encoded data removed]"
     },
     "metadata": {
      "jupyter-vega": "#f5fc256e-4d44-480e-9a09-9e775714995f"
     },
     "output_type": "display_data"
    }
   ],
   "source": [
    "plot_imp(best_features_rfi, feature_importances_rfi, 'Random Forest', 'green')"
   ]
  },
  {
   "cell_type": "markdown",
   "metadata": {},
   "source": [
    "We observe that the most important feature is `ctr`, followed by `cpc`, `countryid`, and `day`."
   ]
  },
  {
   "cell_type": "markdown",
   "metadata": {},
   "source": [
    "### 3.2 Hyperparameter Tunning\n",
    "\n",
    "### Model evaluation strategy\n",
    "\n",
    "We train our models on 4000 rows of training data and test them on 1000 rows of test data. We will use 5-fold cross-validation with 3 repetitions evaluation method for hyperparameter tuning.\n",
    "\n",
    "\n",
    "#### Cross Validation\n",
    "\n",
    "Cross validation is a well-recognised strategy to effectively reduce variability and to avoid overfitting. Hence it has been used throughout different stages of the project [2], such as when splitting the training and test dataset, when selecting the features, when tunning the parameters, when evaluating the prediction power of the algorithms and when comparing the performances across algorithms. There are variations of the cross validation method.\n",
    "      \n",
    "This project uses a repeated k-fold cross validation strategy since the target feature of the online advertising dataset is float numerical, and the repeated k-fold works well with the regression algorithms [2]. In simple words, k-fold cross validation means to partition the entire dataset into k equal-sized chunks, using one chunk as the test set while using the other k-1 chunks as the training set. Pick the test chunk in turn among the k chunks until all chunks have been acted as the test set. Finally take the average accruacy of these k tests as the final cross-validated accuracy. Usually k takes the value of 5 or 10, this project uses the 5-fold cross validation. The term “repeated” refers to repeat the 5-fold cross-validation procedure for 3 times (in the case of our project) with each repetition using a different partitioning of data. This is equivalent to totally 15 different ‘folds’ of data being used as the test set, which is a thoroughly randomisation of the training data as well. In addition, the repetition number cannot be set too high in order to minimise the issue of overfitting [4]. \n",
    "    \n",
    "Keeping the same settings for all cross-validation procedures for every stage ensures a good foundation for a pair-wise performance comparison via the paired t-tests. Apart from the number of repetitions and folds, another parameter for the cross_val_score function in Python’s sklearn library is the ‘random state’. For example, to decide the best feature selection approach, keeping the random state same for all approaches will ensure every feature selection approach is fitted and tested on exactly the same data partitions. This means our experiments were conducted in a paired fashion and variability is reduced significantly compared to an independent fashion [1]. Similarly, for the evaluation stage, by keeping all parameters of the cross-validation same, different algorithms are able to be fitted and tested on same data partitions, and this builds a good foundation to use the paired t-test and produces comparable performances [4]. Besides, the hyperparameter tunning process (via both grid search and pipeline) is also cross-validated in a same fashion so as to avoid overfitting [2]. "
   ]
  },
  {
   "cell_type": "code",
   "execution_count": 22,
   "metadata": {},
   "outputs": [],
   "source": [
    "from sklearn.model_selection import RepeatedKFold, GridSearchCV\n",
    "\n",
    "cv_method = RepeatedKFold(n_splits=5, n_repeats=3, random_state=999)"
   ]
  },
  {
   "cell_type": "markdown",
   "metadata": {},
   "source": [
    "### Algorithm 1: K-Nearest Neighbors (KNN) Regressor <a class=\"anchor\" id=\"4.1\"></a> \n",
    " "
   ]
  },
  {
   "cell_type": "code",
   "execution_count": 23,
   "metadata": {},
   "outputs": [],
   "source": [
    "from sklearn.base import BaseEstimator, TransformerMixin\n",
    "\n",
    "# custom function for RFI feature selection\n",
    "# here we use n_estimators=100\n",
    "class RFIFeatureSelector(BaseEstimator, TransformerMixin):\n",
    "    \n",
    "    # class constructor \n",
    "    # make sure class attributes end with a \"_\"\n",
    "    # per scikit-learn convention to avoid errors\n",
    "    def __init__(self, n_features_=10):\n",
    "        self.n_features_ = n_features_\n",
    "        self.fs_indices_ = None\n",
    "\n",
    "    # override the fit function\n",
    "    def fit(self, X, y):\n",
    "        from sklearn.ensemble import RandomForestRegressor\n",
    "        from numpy import argsort\n",
    "        model_rfi = RandomForestRegressor(n_estimators=100)\n",
    "        model_rfi.fit(X, y)\n",
    "        self.fs_indices_ = argsort(model_rfi.feature_importances_)[::-1][0:self.n_features_] \n",
    "        return self \n",
    "    \n",
    "    # override the transform function\n",
    "    def transform(self, X, y=None):\n",
    "        return X[:, self.fs_indices_]"
   ]
  },
  {
   "cell_type": "code",
   "execution_count": 24,
   "metadata": {},
   "outputs": [],
   "source": [
    "from sklearn.pipeline import Pipeline\n",
    "from sklearn.neighbors import KNeighborsRegressor\n",
    "\n",
    "pipe_KNN = Pipeline(steps=[('rfi_fs', RFIFeatureSelector()), \n",
    "                           ('knn', KNeighborsRegressor())])\n",
    "\n",
    "params_pipe_KNN = {'rfi_fs__n_features_': [5, 10, Data.shape[1]],\n",
    "                   'knn__n_neighbors': [1, 2, 3, 4, 5, 6, 7, 8, 9, 10],\n",
    "                   'knn__p': [1, 2, 5]}\n",
    "\n",
    "gs_pipe_KNN = GridSearchCV(estimator=pipe_KNN, \n",
    "                           param_grid=params_pipe_KNN, \n",
    "                           cv=cv_method,\n",
    "                           refit=True,\n",
    "                           n_jobs=-2,\n",
    "                           scoring='neg_mean_squared_error',\n",
    "                           verbose=1) "
   ]
  },
  {
   "cell_type": "code",
   "execution_count": 25,
   "metadata": {},
   "outputs": [
    {
     "name": "stdout",
     "output_type": "stream",
     "text": [
      "Fitting 15 folds for each of 90 candidates, totalling 1350 fits\n"
     ]
    },
    {
     "name": "stderr",
     "output_type": "stream",
     "text": [
      "[Parallel(n_jobs=-2)]: Using backend LokyBackend with 7 concurrent workers.\n",
      "[Parallel(n_jobs=-2)]: Done  36 tasks      | elapsed:   26.5s\n",
      "[Parallel(n_jobs=-2)]: Done 186 tasks      | elapsed:  2.0min\n",
      "[Parallel(n_jobs=-2)]: Done 436 tasks      | elapsed:  5.0min\n",
      "[Parallel(n_jobs=-2)]: Done 786 tasks      | elapsed: 10.0min\n",
      "[Parallel(n_jobs=-2)]: Done 1236 tasks      | elapsed: 18.0min\n",
      "[Parallel(n_jobs=-2)]: Done 1350 out of 1350 | elapsed: 20.0min finished\n"
     ]
    }
   ],
   "source": [
    "gs_pipe_KNN.fit(Data_scaled_sample_train, target_sample_train.ravel());"
   ]
  },
  {
   "cell_type": "code",
   "execution_count": 26,
   "metadata": {},
   "outputs": [
    {
     "name": "stdout",
     "output_type": "stream",
     "text": [
      "Best KNN model: {'knn__n_neighbors': 10, 'knn__p': 1, 'rfi_fs__n_features_': 20}\n"
     ]
    }
   ],
   "source": [
    "print(f'Best KNN model: {gs_pipe_KNN.best_params_}')"
   ]
  },
  {
   "cell_type": "code",
   "execution_count": 27,
   "metadata": {},
   "outputs": [
    {
     "data": {
      "text/plain": [
       "-1.8451612979113403"
      ]
     },
     "execution_count": 27,
     "metadata": {},
     "output_type": "execute_result"
    }
   ],
   "source": [
    "gs_pipe_KNN.best_score_"
   ]
  },
  {
   "cell_type": "markdown",
   "metadata": {},
   "source": [
    "We observe that the best performance with 20 features selected by the random forest importance with 10 nearest neighbors and with *p*=1 for a negative mean squared error score of -1.8452. \n",
    "\n",
    "\n",
    "Let's find out the other combinations to see if the difference is rather significant or not. The code below is from [5] which make use of the function below to format the grid search output as a `Pandas` data frame."
   ]
  },
  {
   "cell_type": "code",
   "execution_count": 28,
   "metadata": {},
   "outputs": [],
   "source": [
    "def get_search_results(gs):\n",
    "\n",
    "    def model_result(scores, params):\n",
    "        scores = {'mean_score': np.mean(scores),\n",
    "             'std_score': np.std(scores),\n",
    "             'min_score': np.min(scores),\n",
    "             'max_score': np.max(scores)}\n",
    "        return pd.Series({**params,**scores})\n",
    "\n",
    "    models = []\n",
    "    scores = []\n",
    "\n",
    "    for i in range(gs.n_splits_):\n",
    "        key = f\"split{i}_test_score\"\n",
    "        r = gs.cv_results_[key]        \n",
    "        scores.append(r.reshape(-1,1))\n",
    "\n",
    "    all_scores = np.hstack(scores)\n",
    "    for p, s in zip(gs.cv_results_['params'], all_scores):\n",
    "        models.append((model_result(s, p)))\n",
    "\n",
    "    pipe_results = pd.concat(models, axis=1).T.sort_values(['mean_score'], ascending=False)\n",
    "\n",
    "    columns_first = ['mean_score', 'std_score', 'max_score', 'min_score']\n",
    "    columns = columns_first + [c for c in pipe_results.columns if c not in columns_first]\n",
    "\n",
    "    return pipe_results[columns]"
   ]
  },
  {
   "cell_type": "code",
   "execution_count": 29,
   "metadata": {},
   "outputs": [
    {
     "data": {
      "text/html": [
       "<div>\n",
       "<style scoped>\n",
       "    .dataframe tbody tr th:only-of-type {\n",
       "        vertical-align: middle;\n",
       "    }\n",
       "\n",
       "    .dataframe tbody tr th {\n",
       "        vertical-align: top;\n",
       "    }\n",
       "\n",
       "    .dataframe thead th {\n",
       "        text-align: right;\n",
       "    }\n",
       "</style>\n",
       "<table border=\"1\" class=\"dataframe\">\n",
       "  <thead>\n",
       "    <tr style=\"text-align: right;\">\n",
       "      <th></th>\n",
       "      <th>mean_score</th>\n",
       "      <th>std_score</th>\n",
       "      <th>max_score</th>\n",
       "      <th>min_score</th>\n",
       "      <th>knn__n_neighbors</th>\n",
       "      <th>knn__p</th>\n",
       "      <th>rfi_fs__n_features_</th>\n",
       "    </tr>\n",
       "  </thead>\n",
       "  <tbody>\n",
       "    <tr>\n",
       "      <th>83</th>\n",
       "      <td>-1.845161</td>\n",
       "      <td>0.359530</td>\n",
       "      <td>-1.352263</td>\n",
       "      <td>-2.694059</td>\n",
       "      <td>10.0</td>\n",
       "      <td>1.0</td>\n",
       "      <td>20.0</td>\n",
       "    </tr>\n",
       "    <tr>\n",
       "      <th>74</th>\n",
       "      <td>-1.850355</td>\n",
       "      <td>0.357448</td>\n",
       "      <td>-1.347758</td>\n",
       "      <td>-2.699726</td>\n",
       "      <td>9.0</td>\n",
       "      <td>1.0</td>\n",
       "      <td>20.0</td>\n",
       "    </tr>\n",
       "    <tr>\n",
       "      <th>65</th>\n",
       "      <td>-1.850679</td>\n",
       "      <td>0.350963</td>\n",
       "      <td>-1.354855</td>\n",
       "      <td>-2.701491</td>\n",
       "      <td>8.0</td>\n",
       "      <td>1.0</td>\n",
       "      <td>20.0</td>\n",
       "    </tr>\n",
       "    <tr>\n",
       "      <th>56</th>\n",
       "      <td>-1.869899</td>\n",
       "      <td>0.356541</td>\n",
       "      <td>-1.363617</td>\n",
       "      <td>-2.737554</td>\n",
       "      <td>7.0</td>\n",
       "      <td>1.0</td>\n",
       "      <td>20.0</td>\n",
       "    </tr>\n",
       "    <tr>\n",
       "      <th>47</th>\n",
       "      <td>-1.887592</td>\n",
       "      <td>0.354254</td>\n",
       "      <td>-1.403879</td>\n",
       "      <td>-2.725106</td>\n",
       "      <td>6.0</td>\n",
       "      <td>1.0</td>\n",
       "      <td>20.0</td>\n",
       "    </tr>\n",
       "  </tbody>\n",
       "</table>\n",
       "</div>"
      ],
      "text/plain": [
       "    mean_score  std_score  max_score  min_score  knn__n_neighbors  knn__p  \\\n",
       "83   -1.845161   0.359530  -1.352263  -2.694059              10.0     1.0   \n",
       "74   -1.850355   0.357448  -1.347758  -2.699726               9.0     1.0   \n",
       "65   -1.850679   0.350963  -1.354855  -2.701491               8.0     1.0   \n",
       "56   -1.869899   0.356541  -1.363617  -2.737554               7.0     1.0   \n",
       "47   -1.887592   0.354254  -1.403879  -2.725106               6.0     1.0   \n",
       "\n",
       "    rfi_fs__n_features_  \n",
       "83                 20.0  \n",
       "74                 20.0  \n",
       "65                 20.0  \n",
       "56                 20.0  \n",
       "47                 20.0  "
      ]
     },
     "execution_count": 29,
     "metadata": {},
     "output_type": "execute_result"
    }
   ],
   "source": [
    "results_KNN = get_search_results(gs_pipe_KNN)\n",
    "results_KNN.head()"
   ]
  },
  {
   "cell_type": "markdown",
   "metadata": {},
   "source": [
    "We observe that there is no much difference between the hyperparameter combinations when conditioned on the number of features selected."
   ]
  },
  {
   "cell_type": "code",
   "execution_count": 30,
   "metadata": {},
   "outputs": [
    {
     "data": {
      "application/javascript": [
       "var spec = {\"config\": {\"view\": {\"width\": 400, \"height\": 300}, \"mark\": {\"tooltip\": null}}, \"data\": {\"name\": \"data-170d16cdd584c5f0e041c2ed97e72cd5\"}, \"mark\": {\"type\": \"line\", \"point\": true}, \"encoding\": {\"color\": {\"type\": \"nominal\", \"field\": \"knn__p\", \"title\": \"p\"}, \"x\": {\"type\": \"quantitative\", \"field\": \"knn__n_neighbors\", \"title\": \"Number of Neighbors\"}, \"y\": {\"type\": \"quantitative\", \"aggregate\": \"average\", \"field\": \"mean_score\", \"scale\": {\"zero\": false}, \"title\": \"neg_mean_squared_error\"}}, \"title\": \"KNN Performance Comparison with 20 Features\", \"$schema\": \"https://vega.github.io/schema/vega-lite/v3.2.1.json\", \"datasets\": {\"data-170d16cdd584c5f0e041c2ed97e72cd5\": [{\"mean_score\": -1.8451612979113405, \"std_score\": 0.3595302805601936, \"max_score\": -1.3522632079043686, \"min_score\": -2.6940591165797367, \"knn__n_neighbors\": 10.0, \"knn__p\": 1.0, \"rfi_fs__n_features_\": 20.0}, {\"mean_score\": -1.8503551206253583, \"std_score\": 0.3574480807368788, \"max_score\": -1.3477578590838064, \"min_score\": -2.6997261924232516, \"knn__n_neighbors\": 9.0, \"knn__p\": 1.0, \"rfi_fs__n_features_\": 20.0}, {\"mean_score\": -1.850678796275545, \"std_score\": 0.350962554381722, \"max_score\": -1.3548547112152192, \"min_score\": -2.701491361203417, \"knn__n_neighbors\": 8.0, \"knn__p\": 1.0, \"rfi_fs__n_features_\": 20.0}, {\"mean_score\": -1.869899381862208, \"std_score\": 0.3565406390784231, \"max_score\": -1.3636165694701665, \"min_score\": -2.737554136491086, \"knn__n_neighbors\": 7.0, \"knn__p\": 1.0, \"rfi_fs__n_features_\": 20.0}, {\"mean_score\": -1.8875916861498279, \"std_score\": 0.35425404219150936, \"max_score\": -1.4038790214040355, \"min_score\": -2.7251057941770838, \"knn__n_neighbors\": 6.0, \"knn__p\": 1.0, \"rfi_fs__n_features_\": 20.0}, {\"mean_score\": -1.9129512018342898, \"std_score\": 0.35503620977599587, \"max_score\": -1.3756718765449472, \"min_score\": -2.788080046771883, \"knn__n_neighbors\": 5.0, \"knn__p\": 1.0, \"rfi_fs__n_features_\": 20.0}, {\"mean_score\": -1.9360822460402407, \"std_score\": 0.37268037663995657, \"max_score\": -1.4591638107071014, \"min_score\": -2.7636464033251698, \"knn__n_neighbors\": 10.0, \"knn__p\": 2.0, \"rfi_fs__n_features_\": 20.0}, {\"mean_score\": -1.9435416284864835, \"std_score\": 0.3755533394665, \"max_score\": -1.4522972563666443, \"min_score\": -2.7695057196571917, \"knn__n_neighbors\": 9.0, \"knn__p\": 2.0, \"rfi_fs__n_features_\": 20.0}, {\"mean_score\": -1.965076817206184, \"std_score\": 0.36841856645161514, \"max_score\": -1.5174293902361387, \"min_score\": -2.7830294460661786, \"knn__n_neighbors\": 8.0, \"knn__p\": 2.0, \"rfi_fs__n_features_\": 20.0}, {\"mean_score\": -1.9794319140813796, \"std_score\": 0.3680799924485042, \"max_score\": -1.5291907308974784, \"min_score\": -2.775591546447491, \"knn__n_neighbors\": 7.0, \"knn__p\": 2.0, \"rfi_fs__n_features_\": 20.0}, {\"mean_score\": -1.983236717684189, \"std_score\": 0.3778351757438313, \"max_score\": -1.5093167742355922, \"min_score\": -2.749538099816176, \"knn__n_neighbors\": 10.0, \"knn__p\": 5.0, \"rfi_fs__n_features_\": 20.0}, {\"mean_score\": -1.9847852373453228, \"std_score\": 0.3455465631286809, \"max_score\": -1.3714944674240024, \"min_score\": -2.833596778663333, \"knn__n_neighbors\": 4.0, \"knn__p\": 1.0, \"rfi_fs__n_features_\": 20.0}, {\"mean_score\": -1.9927610002206224, \"std_score\": 0.38253794330103685, \"max_score\": -1.5051087296296344, \"min_score\": -2.7696898963078707, \"knn__n_neighbors\": 9.0, \"knn__p\": 5.0, \"rfi_fs__n_features_\": 20.0}, {\"mean_score\": -1.994322846006446, \"std_score\": 0.38009475789057007, \"max_score\": -1.5456503471512422, \"min_score\": -2.8498690433898055, \"knn__n_neighbors\": 6.0, \"knn__p\": 2.0, \"rfi_fs__n_features_\": 20.0}, {\"mean_score\": -2.0050482812443464, \"std_score\": 0.3834699189176749, \"max_score\": -1.5266256552754485, \"min_score\": -2.8066579098233433, \"knn__n_neighbors\": 8.0, \"knn__p\": 5.0, \"rfi_fs__n_features_\": 20.0}, {\"mean_score\": -2.018111213741806, \"std_score\": 0.39984644594891705, \"max_score\": -1.5249958498630243, \"min_score\": -2.8996513329226934, \"knn__n_neighbors\": 7.0, \"knn__p\": 5.0, \"rfi_fs__n_features_\": 20.0}, {\"mean_score\": -2.0278978536719294, \"std_score\": 0.3928534403071809, \"max_score\": -1.5057925384782942, \"min_score\": -2.8882567017865597, \"knn__n_neighbors\": 5.0, \"knn__p\": 2.0, \"rfi_fs__n_features_\": 20.0}, {\"mean_score\": -2.0506562825596935, \"std_score\": 0.398288927052686, \"max_score\": -1.5486565390619011, \"min_score\": -2.924408269590152, \"knn__n_neighbors\": 6.0, \"knn__p\": 5.0, \"rfi_fs__n_features_\": 20.0}, {\"mean_score\": -2.07369204014217, \"std_score\": 0.3436180176623607, \"max_score\": -1.438917970887664, \"min_score\": -2.83855024650621, \"knn__n_neighbors\": 3.0, \"knn__p\": 1.0, \"rfi_fs__n_features_\": 20.0}, {\"mean_score\": -2.0739323170263004, \"std_score\": 0.3656479569968855, \"max_score\": -1.5960687636900068, \"min_score\": -2.871618151477273, \"knn__n_neighbors\": 4.0, \"knn__p\": 2.0, \"rfi_fs__n_features_\": 20.0}, {\"mean_score\": -2.085694705592995, \"std_score\": 0.3934439519038001, \"max_score\": -1.5456042105071435, \"min_score\": -2.912002170651091, \"knn__n_neighbors\": 5.0, \"knn__p\": 5.0, \"rfi_fs__n_features_\": 20.0}, {\"mean_score\": -2.1646242172456653, \"std_score\": 0.39253814360618633, \"max_score\": -1.676907390949922, \"min_score\": -2.9752047398603305, \"knn__n_neighbors\": 4.0, \"knn__p\": 5.0, \"rfi_fs__n_features_\": 20.0}, {\"mean_score\": -2.1731213003253576, \"std_score\": 0.3304503620871319, \"max_score\": -1.7417099873252864, \"min_score\": -2.8617083437081434, \"knn__n_neighbors\": 3.0, \"knn__p\": 2.0, \"rfi_fs__n_features_\": 20.0}, {\"mean_score\": -2.2445864067120906, \"std_score\": 0.33899860506741325, \"max_score\": -1.7819351603632123, \"min_score\": -2.9317016356401226, \"knn__n_neighbors\": 3.0, \"knn__p\": 5.0, \"rfi_fs__n_features_\": 20.0}, {\"mean_score\": -2.3263641139951883, \"std_score\": 0.3539977666647666, \"max_score\": -1.5037095539528174, \"min_score\": -2.9845794379385184, \"knn__n_neighbors\": 2.0, \"knn__p\": 1.0, \"rfi_fs__n_features_\": 20.0}, {\"mean_score\": -2.442400910098398, \"std_score\": 0.28616821972884726, \"max_score\": -1.953888437397099, \"min_score\": -3.0141013689134626, \"knn__n_neighbors\": 2.0, \"knn__p\": 2.0, \"rfi_fs__n_features_\": 20.0}, {\"mean_score\": -2.5019092889769463, \"std_score\": 0.30005369129491427, \"max_score\": -2.025566298879613, \"min_score\": -3.147804122768756, \"knn__n_neighbors\": 2.0, \"knn__p\": 5.0, \"rfi_fs__n_features_\": 20.0}, {\"mean_score\": -3.223727821612561, \"std_score\": 0.49562138444476367, \"max_score\": -2.4419270985290358, \"min_score\": -3.8962946618002543, \"knn__n_neighbors\": 1.0, \"knn__p\": 5.0, \"rfi_fs__n_features_\": 20.0}, {\"mean_score\": -3.2954783516018793, \"std_score\": 0.536769710379644, \"max_score\": -2.280776591868138, \"min_score\": -4.031776520159932, \"knn__n_neighbors\": 1.0, \"knn__p\": 2.0, \"rfi_fs__n_features_\": 20.0}, {\"mean_score\": -3.3559696894461712, \"std_score\": 0.4591330015925182, \"max_score\": -2.132822419783073, \"min_score\": -3.935001938333171, \"knn__n_neighbors\": 1.0, \"knn__p\": 1.0, \"rfi_fs__n_features_\": 20.0}]}};\n",
       "var opt = {};\n",
       "var type = \"vega-lite\";\n",
       "var id = \"afb08518-ee80-43d2-8378-04e4113af511\";\n",
       "\n",
       "var output_area = this;\n",
       "\n",
       "require([\"nbextensions/jupyter-vega/index\"], function(vega) {\n",
       "  var target = document.createElement(\"div\");\n",
       "  target.id = id;\n",
       "  target.className = \"vega-embed\";\n",
       "\n",
       "  var style = document.createElement(\"style\");\n",
       "  style.textContent = [\n",
       "    \".vega-embed .error p {\",\n",
       "    \"  color: firebrick;\",\n",
       "    \"  font-size: 14px;\",\n",
       "    \"}\",\n",
       "  ].join(\"\\\\n\");\n",
       "\n",
       "  // element is a jQuery wrapped DOM element inside the output area\n",
       "  // see http://ipython.readthedocs.io/en/stable/api/generated/\\\n",
       "  // IPython.display.html#IPython.display.Javascript.__init__\n",
       "  element[0].appendChild(target);\n",
       "  element[0].appendChild(style);\n",
       "\n",
       "  vega.render(\"#\" + id, spec, type, opt, output_area);\n",
       "}, function (err) {\n",
       "  if (err.requireType !== \"scripterror\") {\n",
       "    throw(err);\n",
       "  }\n",
       "});\n"
      ],
      "text/plain": [
       "<vega.vegalite.VegaLite at 0x1a22e5cb38>"
      ]
     },
     "metadata": {
      "jupyter-vega": "#afb08518-ee80-43d2-8378-04e4113af511"
     },
     "output_type": "display_data"
    },
    {
     "data": {
      "text/plain": []
     },
     "execution_count": 30,
     "metadata": {},
     "output_type": "execute_result"
    },
    {
     "data": {
      "image/png": "[encoded data removed]"
     },
     "metadata": {
      "jupyter-vega": "#afb08518-ee80-43d2-8378-04e4113af511"
     },
     "output_type": "display_data"
    }
   ],
   "source": [
    "import altair as alt\n",
    "\n",
    "results_KNN_20_features = results_KNN[results_KNN['rfi_fs__n_features_'] == 20.0]\n",
    "\n",
    "alt.Chart(results_KNN_20_features, \n",
    "          title='KNN Performance Comparison with 20 Features'\n",
    "         ).mark_line(point=True).encode(\n",
    "    alt.X('knn__n_neighbors', title='Number of Neighbors'),\n",
    "    alt.Y('mean_score', title='neg_mean_squared_error', aggregate='average', scale=alt.Scale(zero=False)),\n",
    "    alt.Color('knn__p:N', title='p')\n",
    ")"
   ]
  },
  {
   "cell_type": "markdown",
   "metadata": {},
   "source": [
    "### Algorithm 2: Decision Tree (DT) Regressor<a class=\"anchor\" id=\"4.2\"></a> "
   ]
  },
  {
   "cell_type": "code",
   "execution_count": 31,
   "metadata": {},
   "outputs": [],
   "source": [
    "from sklearn.tree import DecisionTreeRegressor\n",
    "\n",
    "pipe_DT = Pipeline([('rfi_fs', RFIFeatureSelector()),\n",
    "                    ('dt', DecisionTreeRegressor(criterion='mse'))])\n",
    "\n",
    "params_pipe_DT = {'rfi_fs__n_features_': [5, 10, Data.shape[1]],\n",
    "                  'dt__max_depth': [5, 6, 7, 8, 9, 10, 11, 12],\n",
    "                  'dt__min_samples_split': [3, 5, 20, 30, 50, 100]}\n",
    "\n",
    "gs_pipe_DT = GridSearchCV(estimator=pipe_DT, \n",
    "                          param_grid=params_pipe_DT, \n",
    "                          cv=cv_method,\n",
    "                          refit=True,\n",
    "                          n_jobs=-2,\n",
    "                          scoring='neg_mean_squared_error',\n",
    "                          verbose=1) "
   ]
  },
  {
   "cell_type": "code",
   "execution_count": 32,
   "metadata": {},
   "outputs": [
    {
     "name": "stdout",
     "output_type": "stream",
     "text": [
      "Fitting 15 folds for each of 144 candidates, totalling 2160 fits\n"
     ]
    },
    {
     "name": "stderr",
     "output_type": "stream",
     "text": [
      "[Parallel(n_jobs=-2)]: Using backend LokyBackend with 7 concurrent workers.\n",
      "[Parallel(n_jobs=-2)]: Done  36 tasks      | elapsed:   26.2s\n",
      "[Parallel(n_jobs=-2)]: Done 186 tasks      | elapsed:  2.2min\n",
      "[Parallel(n_jobs=-2)]: Done 436 tasks      | elapsed:  5.8min\n",
      "[Parallel(n_jobs=-2)]: Done 786 tasks      | elapsed:  9.6min\n",
      "[Parallel(n_jobs=-2)]: Done 1236 tasks      | elapsed: 14.4min\n",
      "[Parallel(n_jobs=-2)]: Done 1786 tasks      | elapsed: 20.3min\n",
      "[Parallel(n_jobs=-2)]: Done 2160 out of 2160 | elapsed: 24.3min finished\n"
     ]
    }
   ],
   "source": [
    "gs_pipe_DT.fit(Data_unscaled_sample_train, target_sample_train.ravel());"
   ]
  },
  {
   "cell_type": "code",
   "execution_count": 33,
   "metadata": {},
   "outputs": [
    {
     "name": "stdout",
     "output_type": "stream",
     "text": [
      "Best DT model: {'dt__max_depth': 7, 'dt__min_samples_split': 20, 'rfi_fs__n_features_': 10}\n"
     ]
    }
   ],
   "source": [
    "print(f'Best DT model: {gs_pipe_DT.best_params_}')"
   ]
  },
  {
   "cell_type": "code",
   "execution_count": 34,
   "metadata": {},
   "outputs": [
    {
     "data": {
      "text/plain": [
       "-1.503522064093012"
      ]
     },
     "execution_count": 34,
     "metadata": {},
     "output_type": "execute_result"
    }
   ],
   "source": [
    "gs_pipe_DT.best_score_"
   ]
  },
  {
   "cell_type": "markdown",
   "metadata": {},
   "source": [
    "The best DT has a maximum depth of 7 and minimum split value of 20 samples with a negative mean squared error score of -1.5035 with 10 features selected by the random forest importance.  "
   ]
  },
  {
   "cell_type": "code",
   "execution_count": 35,
   "metadata": {},
   "outputs": [
    {
     "data": {
      "text/html": [
       "<div>\n",
       "<style scoped>\n",
       "    .dataframe tbody tr th:only-of-type {\n",
       "        vertical-align: middle;\n",
       "    }\n",
       "\n",
       "    .dataframe tbody tr th {\n",
       "        vertical-align: top;\n",
       "    }\n",
       "\n",
       "    .dataframe thead th {\n",
       "        text-align: right;\n",
       "    }\n",
       "</style>\n",
       "<table border=\"1\" class=\"dataframe\">\n",
       "  <thead>\n",
       "    <tr style=\"text-align: right;\">\n",
       "      <th></th>\n",
       "      <th>mean_score</th>\n",
       "      <th>std_score</th>\n",
       "      <th>max_score</th>\n",
       "      <th>min_score</th>\n",
       "      <th>dt__max_depth</th>\n",
       "      <th>dt__min_samples_split</th>\n",
       "      <th>rfi_fs__n_features_</th>\n",
       "    </tr>\n",
       "  </thead>\n",
       "  <tbody>\n",
       "    <tr>\n",
       "      <th>43</th>\n",
       "      <td>-1.503522</td>\n",
       "      <td>0.257684</td>\n",
       "      <td>-1.161103</td>\n",
       "      <td>-2.070725</td>\n",
       "      <td>7.0</td>\n",
       "      <td>20.0</td>\n",
       "      <td>10.0</td>\n",
       "    </tr>\n",
       "    <tr>\n",
       "      <th>61</th>\n",
       "      <td>-1.505658</td>\n",
       "      <td>0.262290</td>\n",
       "      <td>-1.186977</td>\n",
       "      <td>-2.119291</td>\n",
       "      <td>8.0</td>\n",
       "      <td>20.0</td>\n",
       "      <td>10.0</td>\n",
       "    </tr>\n",
       "    <tr>\n",
       "      <th>80</th>\n",
       "      <td>-1.509458</td>\n",
       "      <td>0.274132</td>\n",
       "      <td>-1.120377</td>\n",
       "      <td>-2.107705</td>\n",
       "      <td>9.0</td>\n",
       "      <td>20.0</td>\n",
       "      <td>20.0</td>\n",
       "    </tr>\n",
       "    <tr>\n",
       "      <th>64</th>\n",
       "      <td>-1.509675</td>\n",
       "      <td>0.267705</td>\n",
       "      <td>-1.150778</td>\n",
       "      <td>-2.131398</td>\n",
       "      <td>8.0</td>\n",
       "      <td>30.0</td>\n",
       "      <td>10.0</td>\n",
       "    </tr>\n",
       "    <tr>\n",
       "      <th>46</th>\n",
       "      <td>-1.512278</td>\n",
       "      <td>0.265000</td>\n",
       "      <td>-1.150021</td>\n",
       "      <td>-2.099999</td>\n",
       "      <td>7.0</td>\n",
       "      <td>30.0</td>\n",
       "      <td>10.0</td>\n",
       "    </tr>\n",
       "  </tbody>\n",
       "</table>\n",
       "</div>"
      ],
      "text/plain": [
       "    mean_score  std_score  max_score  min_score  dt__max_depth  \\\n",
       "43   -1.503522   0.257684  -1.161103  -2.070725            7.0   \n",
       "61   -1.505658   0.262290  -1.186977  -2.119291            8.0   \n",
       "80   -1.509458   0.274132  -1.120377  -2.107705            9.0   \n",
       "64   -1.509675   0.267705  -1.150778  -2.131398            8.0   \n",
       "46   -1.512278   0.265000  -1.150021  -2.099999            7.0   \n",
       "\n",
       "    dt__min_samples_split  rfi_fs__n_features_  \n",
       "43                   20.0                 10.0  \n",
       "61                   20.0                 10.0  \n",
       "80                   20.0                 20.0  \n",
       "64                   30.0                 10.0  \n",
       "46                   30.0                 10.0  "
      ]
     },
     "execution_count": 35,
     "metadata": {},
     "output_type": "execute_result"
    }
   ],
   "source": [
    "results_DT = get_search_results(gs_pipe_DT)\n",
    "results_DT.head()"
   ]
  },
  {
   "cell_type": "markdown",
   "metadata": {},
   "source": [
    "We observe that there is no much difference between the hyperparameter combinations except the number of features selected by decision tree regressor. Most of the hyperparameter combinations show that this regressor perform better with 10 features."
   ]
  },
  {
   "cell_type": "code",
   "execution_count": 36,
   "metadata": {},
   "outputs": [
    {
     "data": {
      "application/javascript": [
       "var spec = {\"config\": {\"view\": {\"width\": 400, \"height\": 300}, \"mark\": {\"tooltip\": null}}, \"data\": {\"name\": \"data-8544d7469db5138531d1bc98a22b4943\"}, \"mark\": {\"type\": \"line\", \"point\": true}, \"encoding\": {\"color\": {\"type\": \"nominal\", \"field\": \"dt__max_depth\", \"title\": \"Max Depth\"}, \"x\": {\"type\": \"quantitative\", \"field\": \"dt__min_samples_split\", \"title\": \"Min Samples for Split\"}, \"y\": {\"type\": \"quantitative\", \"field\": \"mean_score\", \"scale\": {\"zero\": false}, \"title\": \"neg_mean_squared_error\"}}, \"title\": \"DT Performance Comparison with 10 Features\", \"$schema\": \"https://vega.github.io/schema/vega-lite/v3.2.1.json\", \"datasets\": {\"data-8544d7469db5138531d1bc98a22b4943\": [{\"mean_score\": -1.5035220640930118, \"std_score\": 0.2576840382932995, \"max_score\": -1.1611026771558839, \"min_score\": -2.0707254438775213, \"dt__max_depth\": 7.0, \"dt__min_samples_split\": 20.0, \"rfi_fs__n_features_\": 10.0}, {\"mean_score\": -1.5056582136593337, \"std_score\": 0.26229041579614065, \"max_score\": -1.1869771389265587, \"min_score\": -2.119290936498061, \"dt__max_depth\": 8.0, \"dt__min_samples_split\": 20.0, \"rfi_fs__n_features_\": 10.0}, {\"mean_score\": -1.5096747077165842, \"std_score\": 0.26770456685471833, \"max_score\": -1.1507779109792238, \"min_score\": -2.1313981809204874, \"dt__max_depth\": 8.0, \"dt__min_samples_split\": 30.0, \"rfi_fs__n_features_\": 10.0}, {\"mean_score\": -1.5122784214938358, \"std_score\": 0.26500008449895535, \"max_score\": -1.1500211484570337, \"min_score\": -2.0999985563750645, \"dt__max_depth\": 7.0, \"dt__min_samples_split\": 30.0, \"rfi_fs__n_features_\": 10.0}, {\"mean_score\": -1.519647346223736, \"std_score\": 0.25197589494753025, \"max_score\": -1.2079011434712073, \"min_score\": -2.1578928393257626, \"dt__max_depth\": 10.0, \"dt__min_samples_split\": 30.0, \"rfi_fs__n_features_\": 10.0}, {\"mean_score\": -1.520157530626355, \"std_score\": 0.25508157647120794, \"max_score\": -1.1841612856786838, \"min_score\": -2.150434472376846, \"dt__max_depth\": 10.0, \"dt__min_samples_split\": 20.0, \"rfi_fs__n_features_\": 10.0}, {\"mean_score\": -1.5205704958653194, \"std_score\": 0.2649566362101993, \"max_score\": -1.2067034387970963, \"min_score\": -2.1714537039857005, \"dt__max_depth\": 9.0, \"dt__min_samples_split\": 20.0, \"rfi_fs__n_features_\": 10.0}, {\"mean_score\": -1.5206330965328232, \"std_score\": 0.26006993184585536, \"max_score\": -1.1800948166972796, \"min_score\": -2.091498283869703, \"dt__max_depth\": 6.0, \"dt__min_samples_split\": 20.0, \"rfi_fs__n_features_\": 10.0}, {\"mean_score\": -1.5228269128009446, \"std_score\": 0.2850129582821929, \"max_score\": -1.1761864820083168, \"min_score\": -2.1254678070165194, \"dt__max_depth\": 6.0, \"dt__min_samples_split\": 5.0, \"rfi_fs__n_features_\": 10.0}, {\"mean_score\": -1.5271655361861467, \"std_score\": 0.2579240105157695, \"max_score\": -1.21949159373571, \"min_score\": -2.163657138649041, \"dt__max_depth\": 9.0, \"dt__min_samples_split\": 30.0, \"rfi_fs__n_features_\": 10.0}, {\"mean_score\": -1.5315017899565724, \"std_score\": 0.25536026058250205, \"max_score\": -1.2253055501942207, \"min_score\": -2.157791387140336, \"dt__max_depth\": 11.0, \"dt__min_samples_split\": 30.0, \"rfi_fs__n_features_\": 10.0}, {\"mean_score\": -1.533108189412231, \"std_score\": 0.2633290552098405, \"max_score\": -1.1802751386585695, \"min_score\": -2.1255032170186006, \"dt__max_depth\": 6.0, \"dt__min_samples_split\": 30.0, \"rfi_fs__n_features_\": 10.0}, {\"mean_score\": -1.5391724858852658, \"std_score\": 0.26482211727260474, \"max_score\": -1.1696649684264606, \"min_score\": -2.167097680643141, \"dt__max_depth\": 11.0, \"dt__min_samples_split\": 20.0, \"rfi_fs__n_features_\": 10.0}, {\"mean_score\": -1.540217546400846, \"std_score\": 0.2534251350987202, \"max_score\": -1.2356106282075137, \"min_score\": -2.1693351140939052, \"dt__max_depth\": 12.0, \"dt__min_samples_split\": 30.0, \"rfi_fs__n_features_\": 10.0}, {\"mean_score\": -1.5451514132245605, \"std_score\": 0.26245418797958214, \"max_score\": -1.2184318311353772, \"min_score\": -2.180478088302703, \"dt__max_depth\": 12.0, \"dt__min_samples_split\": 20.0, \"rfi_fs__n_features_\": 10.0}, {\"mean_score\": -1.5487427732784034, \"std_score\": 0.27169213361321315, \"max_score\": -1.1842711897347746, \"min_score\": -2.174798124992115, \"dt__max_depth\": 8.0, \"dt__min_samples_split\": 50.0, \"rfi_fs__n_features_\": 10.0}, {\"mean_score\": -1.5520080672072654, \"std_score\": 0.27619825126514275, \"max_score\": -1.2059471918985392, \"min_score\": -2.1999504135945145, \"dt__max_depth\": 9.0, \"dt__min_samples_split\": 50.0, \"rfi_fs__n_features_\": 10.0}, {\"mean_score\": -1.55300725613392, \"std_score\": 0.2790594446143612, \"max_score\": -1.1443737224802024, \"min_score\": -2.081114994071698, \"dt__max_depth\": 6.0, \"dt__min_samples_split\": 3.0, \"rfi_fs__n_features_\": 10.0}, {\"mean_score\": -1.5535262821840354, \"std_score\": 0.27326163484160726, \"max_score\": -1.1916187937374527, \"min_score\": -2.2072250522693806, \"dt__max_depth\": 10.0, \"dt__min_samples_split\": 50.0, \"rfi_fs__n_features_\": 10.0}, {\"mean_score\": -1.5550601355152804, \"std_score\": 0.2733838289502743, \"max_score\": -1.1834829191832574, \"min_score\": -2.1686865536743314, \"dt__max_depth\": 7.0, \"dt__min_samples_split\": 50.0, \"rfi_fs__n_features_\": 10.0}, {\"mean_score\": -1.5565493525242347, \"std_score\": 0.2737900444106125, \"max_score\": -1.2030536519645585, \"min_score\": -2.2056941160919354, \"dt__max_depth\": 11.0, \"dt__min_samples_split\": 50.0, \"rfi_fs__n_features_\": 10.0}, {\"mean_score\": -1.5595814180055538, \"std_score\": 0.2690609369813872, \"max_score\": -1.2099457317828246, \"min_score\": -2.207173211999244, \"dt__max_depth\": 12.0, \"dt__min_samples_split\": 50.0, \"rfi_fs__n_features_\": 10.0}, {\"mean_score\": -1.5678240393866791, \"std_score\": 0.2676031116878025, \"max_score\": -1.2190387645846, \"min_score\": -2.1796180116870043, \"dt__max_depth\": 6.0, \"dt__min_samples_split\": 50.0, \"rfi_fs__n_features_\": 10.0}, {\"mean_score\": -1.5774744561770586, \"std_score\": 0.28097922865524144, \"max_score\": -1.1529192439873626, \"min_score\": -2.073780217116172, \"dt__max_depth\": 7.0, \"dt__min_samples_split\": 5.0, \"rfi_fs__n_features_\": 10.0}, {\"mean_score\": -1.5837350270674329, \"std_score\": 0.277077565240457, \"max_score\": -1.204134621939395, \"min_score\": -2.0460273585617785, \"dt__max_depth\": 7.0, \"dt__min_samples_split\": 3.0, \"rfi_fs__n_features_\": 10.0}, {\"mean_score\": -1.5876045534569798, \"std_score\": 0.3001040277319514, \"max_score\": -1.2183222480273481, \"min_score\": -2.2209979767699704, \"dt__max_depth\": 7.0, \"dt__min_samples_split\": 100.0, \"rfi_fs__n_features_\": 10.0}, {\"mean_score\": -1.5890685082285094, \"std_score\": 0.2974220064998988, \"max_score\": -1.2298456189448443, \"min_score\": -2.2340783264511113, \"dt__max_depth\": 8.0, \"dt__min_samples_split\": 100.0, \"rfi_fs__n_features_\": 10.0}, {\"mean_score\": -1.5939021744942115, \"std_score\": 0.29561903596660144, \"max_score\": -1.2269734258614826, \"min_score\": -2.224443563691475, \"dt__max_depth\": 6.0, \"dt__min_samples_split\": 100.0, \"rfi_fs__n_features_\": 10.0}, {\"mean_score\": -1.5955585228813154, \"std_score\": 0.29576916092902966, \"max_score\": -1.228994064608311, \"min_score\": -2.2430319184457863, \"dt__max_depth\": 9.0, \"dt__min_samples_split\": 100.0, \"rfi_fs__n_features_\": 10.0}, {\"mean_score\": -1.5958305616628894, \"std_score\": 0.2926747786228034, \"max_score\": -1.2228759640087066, \"min_score\": -2.243960569245954, \"dt__max_depth\": 10.0, \"dt__min_samples_split\": 100.0, \"rfi_fs__n_features_\": 10.0}, {\"mean_score\": -1.6022015640158545, \"std_score\": 0.29273311894600706, \"max_score\": -1.2343258282681024, \"min_score\": -2.25343146646467, \"dt__max_depth\": 11.0, \"dt__min_samples_split\": 100.0, \"rfi_fs__n_features_\": 10.0}, {\"mean_score\": -1.6043124936364175, \"std_score\": 0.29099356713822433, \"max_score\": -1.2423242049901497, \"min_score\": -2.2509618063733203, \"dt__max_depth\": 12.0, \"dt__min_samples_split\": 100.0, \"rfi_fs__n_features_\": 10.0}, {\"mean_score\": -1.6054285942798476, \"std_score\": 0.2746807473426872, \"max_score\": -1.2177420069873397, \"min_score\": -2.090985452316966, \"dt__max_depth\": 8.0, \"dt__min_samples_split\": 3.0, \"rfi_fs__n_features_\": 10.0}, {\"mean_score\": -1.6066523008986313, \"std_score\": 0.25569942548485625, \"max_score\": -1.2567839371525131, \"min_score\": -2.0698308514456887, \"dt__max_depth\": 8.0, \"dt__min_samples_split\": 5.0, \"rfi_fs__n_features_\": 10.0}, {\"mean_score\": -1.6124829920433161, \"std_score\": 0.2972337897722728, \"max_score\": -1.2264579811242455, \"min_score\": -2.2475511587132693, \"dt__max_depth\": 5.0, \"dt__min_samples_split\": 30.0, \"rfi_fs__n_features_\": 10.0}, {\"mean_score\": -1.61556159721488, \"std_score\": 0.3065557785018194, \"max_score\": -1.2270469484166044, \"min_score\": -2.2535856363192774, \"dt__max_depth\": 5.0, \"dt__min_samples_split\": 20.0, \"rfi_fs__n_features_\": 10.0}, {\"mean_score\": -1.6156324933473807, \"std_score\": 0.2703775265247248, \"max_score\": -1.242007292441512, \"min_score\": -2.177563588257481, \"dt__max_depth\": 9.0, \"dt__min_samples_split\": 5.0, \"rfi_fs__n_features_\": 10.0}, {\"mean_score\": -1.6265709210063473, \"std_score\": 0.2763993921939057, \"max_score\": -1.2726547231379113, \"min_score\": -2.2069198303303343, \"dt__max_depth\": 5.0, \"dt__min_samples_split\": 50.0, \"rfi_fs__n_features_\": 10.0}, {\"mean_score\": -1.63115659537706, \"std_score\": 0.30079451909882204, \"max_score\": -1.2422942343010883, \"min_score\": -2.233601785553727, \"dt__max_depth\": 5.0, \"dt__min_samples_split\": 3.0, \"rfi_fs__n_features_\": 10.0}, {\"mean_score\": -1.6331484056494172, \"std_score\": 0.29674742863690623, \"max_score\": -1.235651690929679, \"min_score\": -2.2559728065916875, \"dt__max_depth\": 5.0, \"dt__min_samples_split\": 100.0, \"rfi_fs__n_features_\": 10.0}, {\"mean_score\": -1.6377479781353341, \"std_score\": 0.2541722826140136, \"max_score\": -1.3567152872894335, \"min_score\": -2.1467951345725886, \"dt__max_depth\": 9.0, \"dt__min_samples_split\": 3.0, \"rfi_fs__n_features_\": 10.0}, {\"mean_score\": -1.6457387936135508, \"std_score\": 0.3222866430674091, \"max_score\": -1.249841990702557, \"min_score\": -2.261446314252898, \"dt__max_depth\": 5.0, \"dt__min_samples_split\": 5.0, \"rfi_fs__n_features_\": 10.0}, {\"mean_score\": -1.6706998424078872, \"std_score\": 0.2452538175964252, \"max_score\": -1.3088278409478697, \"min_score\": -2.1683952162885394, \"dt__max_depth\": 10.0, \"dt__min_samples_split\": 5.0, \"rfi_fs__n_features_\": 10.0}, {\"mean_score\": -1.686862774671774, \"std_score\": 0.2743543036414303, \"max_score\": -1.2856243137808088, \"min_score\": -2.101911761514874, \"dt__max_depth\": 10.0, \"dt__min_samples_split\": 3.0, \"rfi_fs__n_features_\": 10.0}, {\"mean_score\": -1.7051140036951102, \"std_score\": 0.29964452743730746, \"max_score\": -1.3330117192386424, \"min_score\": -2.2875356859890554, \"dt__max_depth\": 11.0, \"dt__min_samples_split\": 5.0, \"rfi_fs__n_features_\": 10.0}, {\"mean_score\": -1.7272536436886567, \"std_score\": 0.29605041067932475, \"max_score\": -1.2912456613873917, \"min_score\": -2.298290917431099, \"dt__max_depth\": 12.0, \"dt__min_samples_split\": 5.0, \"rfi_fs__n_features_\": 10.0}, {\"mean_score\": -1.7671335951788085, \"std_score\": 0.3036414625787309, \"max_score\": -1.1780564385766044, \"min_score\": -2.2323156337223486, \"dt__max_depth\": 11.0, \"dt__min_samples_split\": 3.0, \"rfi_fs__n_features_\": 10.0}, {\"mean_score\": -1.8122250772379092, \"std_score\": 0.23713332747077026, \"max_score\": -1.483191400376288, \"min_score\": -2.2318055385168374, \"dt__max_depth\": 12.0, \"dt__min_samples_split\": 3.0, \"rfi_fs__n_features_\": 10.0}]}};\n",
       "var opt = {};\n",
       "var type = \"vega-lite\";\n",
       "var id = \"ac86aa7a-df53-4018-9226-21152433dd16\";\n",
       "\n",
       "var output_area = this;\n",
       "\n",
       "require([\"nbextensions/jupyter-vega/index\"], function(vega) {\n",
       "  var target = document.createElement(\"div\");\n",
       "  target.id = id;\n",
       "  target.className = \"vega-embed\";\n",
       "\n",
       "  var style = document.createElement(\"style\");\n",
       "  style.textContent = [\n",
       "    \".vega-embed .error p {\",\n",
       "    \"  color: firebrick;\",\n",
       "    \"  font-size: 14px;\",\n",
       "    \"}\",\n",
       "  ].join(\"\\\\n\");\n",
       "\n",
       "  // element is a jQuery wrapped DOM element inside the output area\n",
       "  // see http://ipython.readthedocs.io/en/stable/api/generated/\\\n",
       "  // IPython.display.html#IPython.display.Javascript.__init__\n",
       "  element[0].appendChild(target);\n",
       "  element[0].appendChild(style);\n",
       "\n",
       "  vega.render(\"#\" + id, spec, type, opt, output_area);\n",
       "}, function (err) {\n",
       "  if (err.requireType !== \"scripterror\") {\n",
       "    throw(err);\n",
       "  }\n",
       "});\n"
      ],
      "text/plain": [
       "<vega.vegalite.VegaLite at 0x1a22eb45f8>"
      ]
     },
     "metadata": {
      "jupyter-vega": "#ac86aa7a-df53-4018-9226-21152433dd16"
     },
     "output_type": "display_data"
    },
    {
     "data": {
      "text/plain": []
     },
     "execution_count": 36,
     "metadata": {},
     "output_type": "execute_result"
    },
    {
     "data": {
      "image/png": "[encoded data removed]"
     },
     "metadata": {
      "jupyter-vega": "#ac86aa7a-df53-4018-9226-21152433dd16"
     },
     "output_type": "display_data"
    }
   ],
   "source": [
    "results_DT = get_search_results(gs_pipe_DT)\n",
    "\n",
    "results_DT_10_features = results_DT[results_DT['rfi_fs__n_features_'] == 10.0]\n",
    "\n",
    "alt.Chart(results_DT_10_features, \n",
    "          title='DT Performance Comparison with 10 Features'\n",
    "         ).mark_line(point=True).encode(\n",
    "    alt.X('dt__min_samples_split', title='Min Samples for Split'),\n",
    "    alt.Y('mean_score', title='neg_mean_squared_error', scale=alt.Scale(zero=False)),\n",
    "    alt.Color('dt__max_depth:N', title='Max Depth')\n",
    ")"
   ]
  },
  {
   "cell_type": "markdown",
   "metadata": {},
   "source": [
    "### Algorithm 3: Random Forest (RF) Regressor<a class=\"anchor\" id=\"4.3\"></a> "
   ]
  },
  {
   "cell_type": "code",
   "execution_count": 37,
   "metadata": {},
   "outputs": [
    {
     "name": "stdout",
     "output_type": "stream",
     "text": [
      "Fitting 15 folds for each of 105 candidates, totalling 1575 fits\n"
     ]
    },
    {
     "name": "stderr",
     "output_type": "stream",
     "text": [
      "[Parallel(n_jobs=-2)]: Using backend LokyBackend with 7 concurrent workers.\n",
      "[Parallel(n_jobs=-2)]: Done  36 tasks      | elapsed:   23.5s\n",
      "[Parallel(n_jobs=-2)]: Done 186 tasks      | elapsed:  1.8min\n",
      "[Parallel(n_jobs=-2)]: Done 436 tasks      | elapsed:  4.5min\n",
      "[Parallel(n_jobs=-2)]: Done 786 tasks      | elapsed:  8.4min\n",
      "[Parallel(n_jobs=-2)]: Done 1236 tasks      | elapsed: 13.4min\n",
      "[Parallel(n_jobs=-2)]: Done 1575 out of 1575 | elapsed: 17.2min finished\n",
      "/Users/shelneegan/Desktop/anaconda2/envs/Python3/lib/python3.7/site-packages/sklearn/ensemble/forest.py:246: FutureWarning: The default value of n_estimators will change from 10 in version 0.20 to 100 in 0.22.\n",
      "  \"10 in version 0.20 to 100 in 0.22.\", FutureWarning)\n"
     ]
    }
   ],
   "source": [
    "from sklearn.ensemble import RandomForestRegressor\n",
    "\n",
    "pipe_rf = Pipeline([('rfi_fs', RFIFeatureSelector()),\n",
    "                    ('rf', RandomForestRegressor())])\n",
    "\n",
    "params_pipe_rf = {'rfi_fs__n_features_': [5, 10, Data.shape[1]],\n",
    "                  'rf__max_depth': [5, 6, 7, 8, 9, 10, 12],\n",
    "                  'rf__min_samples_split': [5, 20, 30, 50, 100]}\n",
    "\n",
    "\n",
    "gs_pipe_rf = GridSearchCV(estimator=pipe_rf, \n",
    "                          param_grid=params_pipe_rf, \n",
    "                          cv=cv_method,\n",
    "                          refit=True,\n",
    "                          n_jobs=-2,\n",
    "                          scoring='neg_mean_squared_error',\n",
    "                          verbose=1) \n",
    "\n",
    "gs_pipe_rf.fit(Data_unscaled_sample_train, target_sample_train.ravel());"
   ]
  },
  {
   "cell_type": "code",
   "execution_count": 38,
   "metadata": {},
   "outputs": [
    {
     "name": "stdout",
     "output_type": "stream",
     "text": [
      "Best Random Forest model: {'rf__max_depth': 9, 'rf__min_samples_split': 5, 'rfi_fs__n_features_': 20}\n"
     ]
    }
   ],
   "source": [
    "print(f'Best Random Forest model: {gs_pipe_rf.best_params_}')"
   ]
  },
  {
   "cell_type": "code",
   "execution_count": 39,
   "metadata": {},
   "outputs": [
    {
     "data": {
      "text/plain": [
       "-1.2293599102773887"
      ]
     },
     "execution_count": 39,
     "metadata": {},
     "output_type": "execute_result"
    }
   ],
   "source": [
    "gs_pipe_rf.best_score_"
   ]
  },
  {
   "cell_type": "markdown",
   "metadata": {},
   "source": [
    "The best RF has a maximum depth of 9 and minimum split value of 5 samples with a negative mean squared error socre of -1.2294 with 20 features selected by the random forest importance. "
   ]
  },
  {
   "cell_type": "code",
   "execution_count": 40,
   "metadata": {},
   "outputs": [
    {
     "data": {
      "text/html": [
       "<div>\n",
       "<style scoped>\n",
       "    .dataframe tbody tr th:only-of-type {\n",
       "        vertical-align: middle;\n",
       "    }\n",
       "\n",
       "    .dataframe tbody tr th {\n",
       "        vertical-align: top;\n",
       "    }\n",
       "\n",
       "    .dataframe thead th {\n",
       "        text-align: right;\n",
       "    }\n",
       "</style>\n",
       "<table border=\"1\" class=\"dataframe\">\n",
       "  <thead>\n",
       "    <tr style=\"text-align: right;\">\n",
       "      <th></th>\n",
       "      <th>mean_score</th>\n",
       "      <th>std_score</th>\n",
       "      <th>max_score</th>\n",
       "      <th>min_score</th>\n",
       "      <th>rf__max_depth</th>\n",
       "      <th>rf__min_samples_split</th>\n",
       "      <th>rfi_fs__n_features_</th>\n",
       "    </tr>\n",
       "  </thead>\n",
       "  <tbody>\n",
       "    <tr>\n",
       "      <th>62</th>\n",
       "      <td>-1.229360</td>\n",
       "      <td>0.273635</td>\n",
       "      <td>-0.799186</td>\n",
       "      <td>-2.003752</td>\n",
       "      <td>9.0</td>\n",
       "      <td>5.0</td>\n",
       "      <td>20.0</td>\n",
       "    </tr>\n",
       "    <tr>\n",
       "      <th>47</th>\n",
       "      <td>-1.232260</td>\n",
       "      <td>0.284722</td>\n",
       "      <td>-0.882142</td>\n",
       "      <td>-2.077756</td>\n",
       "      <td>8.0</td>\n",
       "      <td>5.0</td>\n",
       "      <td>20.0</td>\n",
       "    </tr>\n",
       "    <tr>\n",
       "      <th>77</th>\n",
       "      <td>-1.239613</td>\n",
       "      <td>0.253684</td>\n",
       "      <td>-0.807771</td>\n",
       "      <td>-1.953193</td>\n",
       "      <td>10.0</td>\n",
       "      <td>5.0</td>\n",
       "      <td>20.0</td>\n",
       "    </tr>\n",
       "    <tr>\n",
       "      <th>61</th>\n",
       "      <td>-1.241308</td>\n",
       "      <td>0.275742</td>\n",
       "      <td>-0.809190</td>\n",
       "      <td>-2.004117</td>\n",
       "      <td>9.0</td>\n",
       "      <td>5.0</td>\n",
       "      <td>10.0</td>\n",
       "    </tr>\n",
       "    <tr>\n",
       "      <th>92</th>\n",
       "      <td>-1.242166</td>\n",
       "      <td>0.271626</td>\n",
       "      <td>-0.744337</td>\n",
       "      <td>-1.952091</td>\n",
       "      <td>12.0</td>\n",
       "      <td>5.0</td>\n",
       "      <td>20.0</td>\n",
       "    </tr>\n",
       "  </tbody>\n",
       "</table>\n",
       "</div>"
      ],
      "text/plain": [
       "    mean_score  std_score  max_score  min_score  rf__max_depth  \\\n",
       "62   -1.229360   0.273635  -0.799186  -2.003752            9.0   \n",
       "47   -1.232260   0.284722  -0.882142  -2.077756            8.0   \n",
       "77   -1.239613   0.253684  -0.807771  -1.953193           10.0   \n",
       "61   -1.241308   0.275742  -0.809190  -2.004117            9.0   \n",
       "92   -1.242166   0.271626  -0.744337  -1.952091           12.0   \n",
       "\n",
       "    rf__min_samples_split  rfi_fs__n_features_  \n",
       "62                    5.0                 20.0  \n",
       "47                    5.0                 20.0  \n",
       "77                    5.0                 20.0  \n",
       "61                    5.0                 10.0  \n",
       "92                    5.0                 20.0  "
      ]
     },
     "execution_count": 40,
     "metadata": {},
     "output_type": "execute_result"
    }
   ],
   "source": [
    "results_rf = get_search_results(gs_pipe_rf)\n",
    "results_rf.head()"
   ]
  },
  {
   "cell_type": "markdown",
   "metadata": {},
   "source": [
    "We observe that there is no much difference between the hyperparameter combinations except the number of features selected by Random Forest Regression. Most of the hyperparameter combinations show that this regressor perform better with 20 features."
   ]
  },
  {
   "cell_type": "code",
   "execution_count": 41,
   "metadata": {},
   "outputs": [
    {
     "data": {
      "application/javascript": [
       "var spec = {\"config\": {\"view\": {\"width\": 400, \"height\": 300}, \"mark\": {\"tooltip\": null}}, \"data\": {\"name\": \"data-2d966ae44107e6160ba009362b60c2c4\"}, \"mark\": {\"type\": \"line\", \"point\": true}, \"encoding\": {\"color\": {\"type\": \"nominal\", \"field\": \"rf__max_depth\", \"title\": \"Max Depth\"}, \"x\": {\"type\": \"quantitative\", \"field\": \"rf__min_samples_split\", \"title\": \"Min Samples for Split\"}, \"y\": {\"type\": \"quantitative\", \"field\": \"mean_score\", \"scale\": {\"zero\": false}, \"title\": \"neg_mean_squared_error\"}}, \"title\": \"RF Performance Comparison with 20 Features - Extended\", \"$schema\": \"https://vega.github.io/schema/vega-lite/v3.2.1.json\", \"datasets\": {\"data-2d966ae44107e6160ba009362b60c2c4\": [{\"mean_score\": -1.2293599102773887, \"std_score\": 0.27363539826777217, \"max_score\": -0.7991864075412329, \"min_score\": -2.0037518156154674, \"rf__max_depth\": 9.0, \"rf__min_samples_split\": 5.0, \"rfi_fs__n_features_\": 20.0}, {\"mean_score\": -1.23226009454364, \"std_score\": 0.28472170667695673, \"max_score\": -0.8821420038706037, \"min_score\": -2.077756383778159, \"rf__max_depth\": 8.0, \"rf__min_samples_split\": 5.0, \"rfi_fs__n_features_\": 20.0}, {\"mean_score\": -1.2396125265624987, \"std_score\": 0.2536843193539736, \"max_score\": -0.8077714794842952, \"min_score\": -1.9531929810067112, \"rf__max_depth\": 10.0, \"rf__min_samples_split\": 5.0, \"rfi_fs__n_features_\": 20.0}, {\"mean_score\": -1.2421662855555775, \"std_score\": 0.271625756492035, \"max_score\": -0.7443373596838498, \"min_score\": -1.9520908056008046, \"rf__max_depth\": 12.0, \"rf__min_samples_split\": 5.0, \"rfi_fs__n_features_\": 20.0}, {\"mean_score\": -1.2525017293752991, \"std_score\": 0.2751121979167692, \"max_score\": -0.8443206665370079, \"min_score\": -2.0264423895185697, \"rf__max_depth\": 10.0, \"rf__min_samples_split\": 20.0, \"rfi_fs__n_features_\": 20.0}, {\"mean_score\": -1.2527347515976885, \"std_score\": 0.2721941997275975, \"max_score\": -0.8478489517016436, \"min_score\": -2.0451763401352405, \"rf__max_depth\": 9.0, \"rf__min_samples_split\": 20.0, \"rfi_fs__n_features_\": 20.0}, {\"mean_score\": -1.2615021856615118, \"std_score\": 0.28638994946890295, \"max_score\": -0.8659676677922822, \"min_score\": -2.0962471139994387, \"rf__max_depth\": 7.0, \"rf__min_samples_split\": 5.0, \"rfi_fs__n_features_\": 20.0}, {\"mean_score\": -1.261722631095109, \"std_score\": 0.28358681115418005, \"max_score\": -0.854056959201919, \"min_score\": -2.0187223054453716, \"rf__max_depth\": 8.0, \"rf__min_samples_split\": 20.0, \"rfi_fs__n_features_\": 20.0}, {\"mean_score\": -1.2637598297414856, \"std_score\": 0.26654869829186517, \"max_score\": -0.8682461823127696, \"min_score\": -1.9937357422495927, \"rf__max_depth\": 12.0, \"rf__min_samples_split\": 20.0, \"rfi_fs__n_features_\": 20.0}, {\"mean_score\": -1.2770290224890593, \"std_score\": 0.2758918675616929, \"max_score\": -0.8858311004231223, \"min_score\": -2.027800496835363, \"rf__max_depth\": 10.0, \"rf__min_samples_split\": 30.0, \"rfi_fs__n_features_\": 20.0}, {\"mean_score\": -1.2844041591080342, \"std_score\": 0.2899524092452425, \"max_score\": -0.9166911420573279, \"min_score\": -2.098726223243247, \"rf__max_depth\": 12.0, \"rf__min_samples_split\": 30.0, \"rfi_fs__n_features_\": 20.0}, {\"mean_score\": -1.2927127304966046, \"std_score\": 0.2838756821113282, \"max_score\": -0.8422947713373793, \"min_score\": -2.056129960185556, \"rf__max_depth\": 7.0, \"rf__min_samples_split\": 20.0, \"rfi_fs__n_features_\": 20.0}, {\"mean_score\": -1.305088858184282, \"std_score\": 0.2940922788032464, \"max_score\": -0.8864298438224005, \"min_score\": -2.134323574405914, \"rf__max_depth\": 6.0, \"rf__min_samples_split\": 5.0, \"rfi_fs__n_features_\": 20.0}, {\"mean_score\": -1.3145237128361638, \"std_score\": 0.2747746091759876, \"max_score\": -0.8582491510076551, \"min_score\": -2.0269200240161287, \"rf__max_depth\": 9.0, \"rf__min_samples_split\": 30.0, \"rfi_fs__n_features_\": 20.0}, {\"mean_score\": -1.3176022820269138, \"std_score\": 0.29104072457996544, \"max_score\": -0.8881809710515998, \"min_score\": -2.092263463966603, \"rf__max_depth\": 8.0, \"rf__min_samples_split\": 30.0, \"rfi_fs__n_features_\": 20.0}, {\"mean_score\": -1.3180988922962256, \"std_score\": 0.2784982231032382, \"max_score\": -0.8731586040751665, \"min_score\": -2.058487577835795, \"rf__max_depth\": 7.0, \"rf__min_samples_split\": 30.0, \"rfi_fs__n_features_\": 20.0}, {\"mean_score\": -1.3195325207037194, \"std_score\": 0.3105766619171984, \"max_score\": -0.9062758811871424, \"min_score\": -2.1448662638159335, \"rf__max_depth\": 6.0, \"rf__min_samples_split\": 20.0, \"rfi_fs__n_features_\": 20.0}, {\"mean_score\": -1.3371916553225203, \"std_score\": 0.2897479402093159, \"max_score\": -0.9848887238237443, \"min_score\": -2.090548386602868, \"rf__max_depth\": 9.0, \"rf__min_samples_split\": 50.0, \"rfi_fs__n_features_\": 20.0}, {\"mean_score\": -1.3373289884759179, \"std_score\": 0.2733323956791868, \"max_score\": -0.939917229659834, \"min_score\": -2.035474671406184, \"rf__max_depth\": 10.0, \"rf__min_samples_split\": 50.0, \"rfi_fs__n_features_\": 20.0}, {\"mean_score\": -1.3508233797624263, \"std_score\": 0.2971042133952748, \"max_score\": -0.915746515209564, \"min_score\": -2.1307383910580353, \"rf__max_depth\": 7.0, \"rf__min_samples_split\": 50.0, \"rfi_fs__n_features_\": 20.0}, {\"mean_score\": -1.3592509022543582, \"std_score\": 0.2799758956265031, \"max_score\": -0.9767924509725787, \"min_score\": -2.1000806191044337, \"rf__max_depth\": 12.0, \"rf__min_samples_split\": 50.0, \"rfi_fs__n_features_\": 20.0}, {\"mean_score\": -1.3593724520708905, \"std_score\": 0.3117973797776775, \"max_score\": -0.8740854021477272, \"min_score\": -2.1951869960204022, \"rf__max_depth\": 8.0, \"rf__min_samples_split\": 50.0, \"rfi_fs__n_features_\": 20.0}, {\"mean_score\": -1.368551434090242, \"std_score\": 0.3097851102031676, \"max_score\": -0.9743111984792862, \"min_score\": -2.246795521007826, \"rf__max_depth\": 6.0, \"rf__min_samples_split\": 30.0, \"rfi_fs__n_features_\": 20.0}, {\"mean_score\": -1.3824062120943454, \"std_score\": 0.33335147691723127, \"max_score\": -0.8935440529890789, \"min_score\": -2.271190086349665, \"rf__max_depth\": 5.0, \"rf__min_samples_split\": 5.0, \"rfi_fs__n_features_\": 20.0}, {\"mean_score\": -1.3966747712335765, \"std_score\": 0.3046934737296788, \"max_score\": -0.9766609058793988, \"min_score\": -2.2020149936520603, \"rf__max_depth\": 5.0, \"rf__min_samples_split\": 20.0, \"rfi_fs__n_features_\": 20.0}, {\"mean_score\": -1.408387988155649, \"std_score\": 0.31035136396455776, \"max_score\": -0.9246572375925447, \"min_score\": -2.205278751504485, \"rf__max_depth\": 6.0, \"rf__min_samples_split\": 50.0, \"rfi_fs__n_features_\": 20.0}, {\"mean_score\": -1.4212270038748458, \"std_score\": 0.32400001654797345, \"max_score\": -0.9431944237826048, \"min_score\": -2.254314364539653, \"rf__max_depth\": 5.0, \"rf__min_samples_split\": 30.0, \"rfi_fs__n_features_\": 20.0}, {\"mean_score\": -1.4289204551218697, \"std_score\": 0.2860022473783959, \"max_score\": -1.0556664101575362, \"min_score\": -2.192945290711102, \"rf__max_depth\": 10.0, \"rf__min_samples_split\": 100.0, \"rfi_fs__n_features_\": 20.0}, {\"mean_score\": -1.4313704635833902, \"std_score\": 0.32192185753331676, \"max_score\": -0.9622534222680176, \"min_score\": -2.277601380714557, \"rf__max_depth\": 7.0, \"rf__min_samples_split\": 100.0, \"rfi_fs__n_features_\": 20.0}, {\"mean_score\": -1.433682154776199, \"std_score\": 0.2992083595183894, \"max_score\": -1.0627634112328925, \"min_score\": -2.1905176385852583, \"rf__max_depth\": 8.0, \"rf__min_samples_split\": 100.0, \"rfi_fs__n_features_\": 20.0}, {\"mean_score\": -1.4355674392795497, \"std_score\": 0.2970041981162806, \"max_score\": -1.066757731253294, \"min_score\": -2.20940230223944, \"rf__max_depth\": 9.0, \"rf__min_samples_split\": 100.0, \"rfi_fs__n_features_\": 20.0}, {\"mean_score\": -1.4361809077579295, \"std_score\": 0.2988522503536867, \"max_score\": -1.0908173368667304, \"min_score\": -2.231521641054412, \"rf__max_depth\": 12.0, \"rf__min_samples_split\": 100.0, \"rfi_fs__n_features_\": 20.0}, {\"mean_score\": -1.4514873911164057, \"std_score\": 0.30939790416753826, \"max_score\": -1.054407229535221, \"min_score\": -2.257314724833042, \"rf__max_depth\": 6.0, \"rf__min_samples_split\": 100.0, \"rfi_fs__n_features_\": 20.0}, {\"mean_score\": -1.4687015460601351, \"std_score\": 0.325242369841866, \"max_score\": -1.0918484650855498, \"min_score\": -2.3200743586346593, \"rf__max_depth\": 5.0, \"rf__min_samples_split\": 50.0, \"rfi_fs__n_features_\": 20.0}, {\"mean_score\": -1.4947810515324809, \"std_score\": 0.31417174011588417, \"max_score\": -1.0661500578214165, \"min_score\": -2.3015327936718895, \"rf__max_depth\": 5.0, \"rf__min_samples_split\": 100.0, \"rfi_fs__n_features_\": 20.0}]}};\n",
       "var opt = {};\n",
       "var type = \"vega-lite\";\n",
       "var id = \"8482d317-1c52-4d72-a8c3-0ddcf2c82aca\";\n",
       "\n",
       "var output_area = this;\n",
       "\n",
       "require([\"nbextensions/jupyter-vega/index\"], function(vega) {\n",
       "  var target = document.createElement(\"div\");\n",
       "  target.id = id;\n",
       "  target.className = \"vega-embed\";\n",
       "\n",
       "  var style = document.createElement(\"style\");\n",
       "  style.textContent = [\n",
       "    \".vega-embed .error p {\",\n",
       "    \"  color: firebrick;\",\n",
       "    \"  font-size: 14px;\",\n",
       "    \"}\",\n",
       "  ].join(\"\\\\n\");\n",
       "\n",
       "  // element is a jQuery wrapped DOM element inside the output area\n",
       "  // see http://ipython.readthedocs.io/en/stable/api/generated/\\\n",
       "  // IPython.display.html#IPython.display.Javascript.__init__\n",
       "  element[0].appendChild(target);\n",
       "  element[0].appendChild(style);\n",
       "\n",
       "  vega.render(\"#\" + id, spec, type, opt, output_area);\n",
       "}, function (err) {\n",
       "  if (err.requireType !== \"scripterror\") {\n",
       "    throw(err);\n",
       "  }\n",
       "});\n"
      ],
      "text/plain": [
       "<vega.vegalite.VegaLite at 0x1a22ebd748>"
      ]
     },
     "metadata": {
      "jupyter-vega": "#8482d317-1c52-4d72-a8c3-0ddcf2c82aca"
     },
     "output_type": "display_data"
    },
    {
     "data": {
      "text/plain": []
     },
     "execution_count": 41,
     "metadata": {},
     "output_type": "execute_result"
    },
    {
     "data": {
      "image/png": "[encoded data removed]"
     },
     "metadata": {
      "jupyter-vega": "#8482d317-1c52-4d72-a8c3-0ddcf2c82aca"
     },
     "output_type": "display_data"
    }
   ],
   "source": [
    "results_rf_20_features = results_rf[results_rf['rfi_fs__n_features_'] == 20.0]\n",
    "\n",
    "alt.Chart(results_rf_20_features, \n",
    "          title='RF Performance Comparison with 20 Features - Extended'\n",
    "         ).mark_line(point=True).encode(\n",
    "    alt.X('rf__min_samples_split', title='Min Samples for Split'),\n",
    "    alt.Y('mean_score', title='neg_mean_squared_error', scale=alt.Scale(zero=False)),\n",
    "    alt.Color('rf__max_depth:N', title='Max Depth')\n",
    ")"
   ]
  },
  {
   "cell_type": "markdown",
   "metadata": {},
   "source": [
    "\n",
    "\n",
    "\n",
    "### 3.3  Performance Evaluation & Analysis of Each Regressor Algorithm\n",
    "\n",
    "First, we import the modules required to build a KNN, DT and RF model.\n",
    "\n",
    "#### Evaluating KNN model"
   ]
  },
  {
   "cell_type": "code",
   "execution_count": 42,
   "metadata": {},
   "outputs": [
    {
     "data": {
      "text/plain": [
       "KNeighborsRegressor(algorithm='auto', leaf_size=30, metric='minkowski',\n",
       "          metric_params=None, n_jobs=None, n_neighbors=10, p=1,\n",
       "          weights='uniform')"
      ]
     },
     "execution_count": 42,
     "metadata": {},
     "output_type": "execute_result"
    }
   ],
   "source": [
    "knn_regressor = KNeighborsRegressor(n_neighbors = 10, p = 1)\n",
    "knn_regressor.fit(Data_scaled_sample_train, target_sample_train)"
   ]
  },
  {
   "cell_type": "markdown",
   "metadata": {},
   "source": [
    "To compute MSE, we need to predict on the test set first."
   ]
  },
  {
   "cell_type": "code",
   "execution_count": 43,
   "metadata": {},
   "outputs": [],
   "source": [
    "t_pred_knn = knn_regressor.predict(Data_scaled_sample_test)"
   ]
  },
  {
   "cell_type": "markdown",
   "metadata": {},
   "source": [
    "Then, import `mean_squared_error` from `sklearn.metrics` module and compute MSE using the predicted and test target feature values."
   ]
  },
  {
   "cell_type": "code",
   "execution_count": 44,
   "metadata": {},
   "outputs": [
    {
     "name": "stdout",
     "output_type": "stream",
     "text": [
      "MSE of KNN is: 1.1740029699339152\n"
     ]
    }
   ],
   "source": [
    "from sklearn.metrics import mean_squared_error\n",
    "\n",
    "mse = mean_squared_error(target_sample_test, t_pred_knn)\n",
    "print(f'MSE of KNN is: {mse}')"
   ]
  },
  {
   "cell_type": "markdown",
   "metadata": {},
   "source": [
    "It is more intuitive to examine the root of MSE, which is denoted by RMSE, rather than MSE itself as RMSE is in the same units as the target feature."
   ]
  },
  {
   "cell_type": "code",
   "execution_count": 45,
   "metadata": {},
   "outputs": [
    {
     "data": {
      "text/plain": [
       "1.0835141761573381"
      ]
     },
     "execution_count": 45,
     "metadata": {},
     "output_type": "execute_result"
    }
   ],
   "source": [
    "np.sqrt(mse)"
   ]
  },
  {
   "cell_type": "markdown",
   "metadata": {},
   "source": [
    "We observe that our KNN regressor achieves a RMSE value of 1.08 for the Online Advertising dataset.\n",
    "\n",
    "#### Evaluating DT model"
   ]
  },
  {
   "cell_type": "code",
   "execution_count": 46,
   "metadata": {},
   "outputs": [
    {
     "data": {
      "text/plain": [
       "DecisionTreeRegressor(criterion='mse', max_depth=7, max_features=None,\n",
       "           max_leaf_nodes=None, min_impurity_decrease=0.0,\n",
       "           min_impurity_split=None, min_samples_leaf=1,\n",
       "           min_samples_split=20, min_weight_fraction_leaf=0.0,\n",
       "           presort=False, random_state=999, splitter='best')"
      ]
     },
     "execution_count": 46,
     "metadata": {},
     "output_type": "execute_result"
    }
   ],
   "source": [
    "from sklearn.tree import DecisionTreeRegressor\n",
    "\n",
    "dt_regressor = DecisionTreeRegressor(max_depth = 7, min_samples_split = 20, random_state = 999)\n",
    "dt_regressor.fit(Data_unscaled_sample_train, target_sample_train)"
   ]
  },
  {
   "cell_type": "code",
   "execution_count": 47,
   "metadata": {},
   "outputs": [
    {
     "name": "stdout",
     "output_type": "stream",
     "text": [
      "MSE of Decision Tree is: 1.18840203847408\n"
     ]
    }
   ],
   "source": [
    "t_pred_dt = dt_regressor.predict(Data_unscaled_sample_test)\n",
    "\n",
    "mse = mean_squared_error(target_sample_test, t_pred_dt)\n",
    "print(f'MSE of Decision Tree is: {mse}')"
   ]
  },
  {
   "cell_type": "code",
   "execution_count": 48,
   "metadata": {},
   "outputs": [
    {
     "data": {
      "text/plain": [
       "1.0901385409543505"
      ]
     },
     "execution_count": 48,
     "metadata": {},
     "output_type": "execute_result"
    }
   ],
   "source": [
    "np.sqrt(mse)"
   ]
  },
  {
   "cell_type": "markdown",
   "metadata": {},
   "source": [
    "We observe that our Decision Tree regressor achieves a RMSE value of 1.09 for the Online Advertising dataset.\n",
    "\n",
    "#### Evaluating Random Forest Regresison model"
   ]
  },
  {
   "cell_type": "code",
   "execution_count": 49,
   "metadata": {},
   "outputs": [
    {
     "name": "stderr",
     "output_type": "stream",
     "text": [
      "/Users/shelneegan/Desktop/anaconda2/envs/Python3/lib/python3.7/site-packages/sklearn/ensemble/forest.py:246: FutureWarning: The default value of n_estimators will change from 10 in version 0.20 to 100 in 0.22.\n",
      "  \"10 in version 0.20 to 100 in 0.22.\", FutureWarning)\n"
     ]
    },
    {
     "data": {
      "text/plain": [
       "RandomForestRegressor(bootstrap=True, criterion='mse', max_depth=9,\n",
       "           max_features='auto', max_leaf_nodes=None,\n",
       "           min_impurity_decrease=0.0, min_impurity_split=None,\n",
       "           min_samples_leaf=1, min_samples_split=5,\n",
       "           min_weight_fraction_leaf=0.0, n_estimators=10, n_jobs=None,\n",
       "           oob_score=False, random_state=999, verbose=0, warm_start=False)"
      ]
     },
     "execution_count": 49,
     "metadata": {},
     "output_type": "execute_result"
    }
   ],
   "source": [
    "rf_regressor = RandomForestRegressor(max_depth = 9, min_samples_split = 5, random_state = 999)\n",
    "rf_regressor.fit(Data_unscaled_sample_train, target_sample_train.ravel())"
   ]
  },
  {
   "cell_type": "code",
   "execution_count": 50,
   "metadata": {},
   "outputs": [
    {
     "name": "stdout",
     "output_type": "stream",
     "text": [
      "MSE of Random Forest Regression is: 0.8615682545274037\n"
     ]
    }
   ],
   "source": [
    "t_pred_rf = rf_regressor.predict(Data_unscaled_sample_test)\n",
    "\n",
    "mse = mean_squared_error(target_sample_test, t_pred_rf)\n",
    "print(f'MSE of Random Forest Regression is: {mse}')"
   ]
  },
  {
   "cell_type": "code",
   "execution_count": 51,
   "metadata": {},
   "outputs": [
    {
     "data": {
      "text/plain": [
       "0.9282070106002237"
      ]
     },
     "execution_count": 51,
     "metadata": {},
     "output_type": "execute_result"
    }
   ],
   "source": [
    "np.sqrt(mse)"
   ]
  },
  {
   "cell_type": "markdown",
   "metadata": {},
   "source": [
    "We observe that our Random Forest regressor achieves a RMSE value of 0.9282 for the Online Advertising dataset.\n",
    "\n",
    "RF has the lowest test RMSE error, compared to DT and KNN, this implies (optimised) RF is more accurate in predicting the revenue.\n",
    "\n",
    "\n",
    "We also want consider the following metrics to evaluate models based on the test set apart from `MSE`:\n",
    "* Mean Absolute Error (MAE)\n",
    "* $R^{2}$\n",
    "\n",
    "Let's check whether RF is still outperforms KNN and DT if we evaluate them using MAE or $R^{2}$."
   ]
  },
  {
   "cell_type": "code",
   "execution_count": 52,
   "metadata": {},
   "outputs": [
    {
     "name": "stdout",
     "output_type": "stream",
     "text": [
      "MAE and r-squared KNN are: 0.6390572422752, 0.08656481785217784\n"
     ]
    }
   ],
   "source": [
    "from sklearn import metrics\n",
    "t_pred_knn = knn_regressor.predict(Data_scaled_sample_test)\n",
    "mae = metrics.mean_absolute_error(target_sample_test, t_pred_knn)\n",
    "r2 = metrics.r2_score(target_sample_test, t_pred_knn)\n",
    "print(f'MAE and r-squared KNN are: {mae}, {r2}')"
   ]
  },
  {
   "cell_type": "code",
   "execution_count": 53,
   "metadata": {},
   "outputs": [
    {
     "name": "stdout",
     "output_type": "stream",
     "text": [
      "MAE and r-squared DT are: 0.5623844136918128, 0.0753615959425391\n"
     ]
    }
   ],
   "source": [
    "t_pred_dt = dt_regressor.predict(Data_unscaled_sample_test)\n",
    "mae = metrics.mean_absolute_error(target_sample_test, t_pred_dt)\n",
    "r2 = metrics.r2_score(target_sample_test, t_pred_dt)\n",
    "print(f'MAE and r-squared DT are: {mae}, {r2}')"
   ]
  },
  {
   "cell_type": "code",
   "execution_count": 54,
   "metadata": {},
   "outputs": [
    {
     "name": "stdout",
     "output_type": "stream",
     "text": [
      "MAE and r-squared RF are: 0.4840455283455391, 0.32965522604144704\n"
     ]
    }
   ],
   "source": [
    "t_pred_rf = rf_regressor.predict(Data_unscaled_sample_test)\n",
    "mae = metrics.mean_absolute_error(target_sample_test, t_pred_rf)\n",
    "r2 = metrics.r2_score(target_sample_test, t_pred_rf)\n",
    "print(f'MAE and r-squared RF are: {mae}, {r2}')"
   ]
  },
  {
   "cell_type": "markdown",
   "metadata": {},
   "source": [
    "RF has a lower test MAE error and a higher $R^{2}$ than KNN and DT. Thus, RF outperforms KNN and DT with respect to these two metrics as well. \n",
    "\n",
    "In practice though, using a different metric during hyperparameter tuning will likely result in a different model evaluation. Recall that we used MSE to optimize the hyperparameters of each model. In our case, it is just a coincidence that RF has lower MSE and MAE values and a higher $R^2$ than KNN and DT. In summary, whatever metric you want to optimize, you should use the same metric for both hyperparameter tuning and model evaluation. That is, you should avoid using different metrics for tuning and evaluation [3]. "
   ]
  },
  {
   "cell_type": "markdown",
   "metadata": {},
   "source": [
    "## 4. Performance Comparison<a class=\"anchor\" id=\"5\"></a> \n",
    "\n",
    "Since cross validation is a random process, we perform pairwise t-tests to determine if any differecne between the performance of any two best regressors is statistically significant.\n",
    "\n",
    "First, we perform 10-fold cross validation on each best model without any repetitions.\n",
    "Second, we conduct a paired t-test for the negative mean squared error score between the following model combinations:\n",
    "\n",
    "* KNN vs. DT,\n",
    "* KNN vs. RF and\n",
    "* DT vs. RF\n",
    "\n"
   ]
  },
  {
   "cell_type": "code",
   "execution_count": 55,
   "metadata": {},
   "outputs": [
    {
     "data": {
      "text/plain": [
       "-1.2669385742730879"
      ]
     },
     "execution_count": 55,
     "metadata": {},
     "output_type": "execute_result"
    }
   ],
   "source": [
    "from sklearn.model_selection import cross_val_score, KFold\n",
    "\n",
    "cv_method_ttest = KFold(n_splits=10, random_state=999)\n",
    "\n",
    "cv_results_KNN = cross_val_score(estimator=gs_pipe_KNN.best_estimator_,\n",
    "                                 X=Data_scaled_sample_test,\n",
    "                                 y=target_sample_test, \n",
    "                                 cv=cv_method_ttest, \n",
    "                                 n_jobs=-2,\n",
    "                                 scoring='neg_mean_squared_error')\n",
    "cv_results_KNN.mean()"
   ]
  },
  {
   "cell_type": "code",
   "execution_count": 56,
   "metadata": {},
   "outputs": [
    {
     "data": {
      "text/plain": [
       "-1.16560437899007"
      ]
     },
     "execution_count": 56,
     "metadata": {},
     "output_type": "execute_result"
    }
   ],
   "source": [
    "\n",
    "\n",
    "cv_results_DT = cross_val_score(estimator=gs_pipe_DT.best_estimator_,\n",
    "                                X=Data_unscaled_sample_test,\n",
    "                                y=target_sample_test, \n",
    "                                cv=cv_method_ttest, \n",
    "                                n_jobs=-2,\n",
    "                                scoring='neg_mean_squared_error')\n",
    "cv_results_DT.mean()"
   ]
  },
  {
   "cell_type": "code",
   "execution_count": 57,
   "metadata": {},
   "outputs": [
    {
     "data": {
      "text/plain": [
       "-1.1258238889951513"
      ]
     },
     "execution_count": 57,
     "metadata": {},
     "output_type": "execute_result"
    }
   ],
   "source": [
    "\n",
    "\n",
    "cv_results_RF = cross_val_score(estimator=gs_pipe_rf.best_estimator_,\n",
    "                                X=Data_unscaled_sample_test,\n",
    "                                y=target_sample_test, \n",
    "                                cv=cv_method_ttest, \n",
    "                                n_jobs=-2,\n",
    "                                scoring='neg_mean_squared_error')\n",
    "cv_results_RF.mean()"
   ]
  },
  {
   "cell_type": "code",
   "execution_count": 58,
   "metadata": {},
   "outputs": [
    {
     "name": "stdout",
     "output_type": "stream",
     "text": [
      "0.3419\n",
      "0.048\n",
      "0.5952\n"
     ]
    }
   ],
   "source": [
    "from scipy import stats\n",
    "\n",
    "print(stats.ttest_rel(cv_results_KNN, cv_results_DT).pvalue.round(4))\n",
    "print(stats.ttest_rel(cv_results_RF, cv_results_KNN).pvalue.round(4))\n",
    "print(stats.ttest_rel(cv_results_RF, cv_results_DT).pvalue.round(4))"
   ]
  },
  {
   "cell_type": "markdown",
   "metadata": {},
   "source": [
    "A p-value smaller than 0.05 indicates a statistical difference. Looking at these results, we conclude that at a 95% significance level, Random Forest Regression is statistically the best model in this competition (in terms of `neg_mean_squared_error`) when compared on the **test data**.\n",
    "\n",
    "Hence, the paired t-test shows that only the difference in performance between the Random Forest and kNN regressors is statistically significant, which implies that Random Forest indeed outperforms the kNN regressor in terms of the mean squared error metric. Meanwhile the other two p-values are greater than 0.05, suggesting that the difference in the mean squared error metric values within the other two pairs of algorithms are statistically insignificant, which can be interpreted as that neither kNN nor Random Forest have really outperformed the decision tree regressor. "
   ]
  },
  {
   "cell_type": "markdown",
   "metadata": {},
   "source": [
    "## 5. Critique of our approach<a class=\"anchor\" id=\"6\"></a> \n",
    "\n",
    "\n",
    "#### Limitations \n",
    "\n",
    "Our modeling strategy has few limitations. First, we only work with a small subset of the original dataset for shorter run times. Using small sample size may reduce the power of the prediction and the result may be less reliable. However, we still can train the model on the entire dataset to predict the target feature since we have obtained the optimal hyperparameters for our model. Second, we perform 10-fold cross validation on each best model without any repetitions before conducting a paired t-test when comparing the model performance. Since we have more than two regressors, we can use Turkey's post-hoc tests or its non-parametric counterpart for model comparison. Third, only one feature selection method is used since we perform feature selection and hyperparameter tuning in a pipeline. We can attempt different feature selection methods before fitting a model.\n",
    "\n",
    "The RF regressors statistically outperforms the other two models. Hence, we can consider to improve this model by furthur expanding the hyperparameter search space by adding other parameters. Furthermore, we can examine and play around with the order of the terms and perform regularisation as part of the hyperparameter tuning to obtain a better model in the future. \n",
    "\n",
    "#### Strengths and Weaknesses\n",
    "\n",
    "The strength of this project is that we only required to use scaled data for kNN algorithm, whereas another two algorithms are tree-based algoriths, and they can work well with unscaled data. The weakness of this project is we only work with same sample size of data.\n"
   ]
  },
  {
   "cell_type": "markdown",
   "metadata": {},
   "source": [
    "## 6. Conclusion<a class=\"anchor\" id=\"7\"></a> "
   ]
  },
  {
   "cell_type": "markdown",
   "metadata": {},
   "source": [
    "The Random Forest Regression model with 20 features selected by the Random Forest Importance (RFI) produces the lowest negative mean squared error score on the training data. When evaluated on the test set, the Random Forest Regression model outperforms both k-Nearest Neighbor and Decision Tree models with respect to MSE score. Moreover, we discover that RF has the lowest test RMSE error, compared to DT and KNN, this indicates that RF is more accurate in predicting the revenue. On the other hand, we also detect that our models are slightly sensitive to the number of features as selected by RFI. However, working with 20 features (full feature set) is more preferable because most of the hyperparameter combinations show Random Forest Regression performs better with 20 features."
   ]
  },
  {
   "cell_type": "markdown",
   "metadata": {},
   "source": [
    "## Reference\n",
    "\n",
    "\n",
    "[1] SK Part 2 - Feature Selection and Ranking, MATH2319 - Machine Learning @ RMIT University.\n",
    "\n",
    "[2] SK Part 3 - Cross-Validation and Hyperparameter Tuning, MATH2319 - Machine Learning @ RMIT University\n",
    "\n",
    "[3] SK Part 4 - Model Evaluation, MATH2319 - Machine Learning @ RMIT University\n",
    "\n",
    "[4] SK Part 5 - Pipelines, Statistical Model Comparison, and Model Deployment, MATH2319 - Machine Learning @ RMIT University\n",
    "\n",
    "[5] Case Study - Predicting Income Status, MATH2319- Machine Learning @ RMIT University. \n",
    "\n",
    "[6] Kelleher,J., Namee,B. & D'Arcy,A. (2015). Fundamentals of machine learning for predicitve data analytics, Chapter 6: Probability-based Learning. The MIT Press. \n",
    "\n",
    "[7] Kelleher,J., Namee,B. & D'Arcy,A. (2015). Fundamentals of machine learning for predicitve data analytics, Chapter 4: Information-based Learning. The MIT Press. \n",
    "\n",
    "[8] Hale.J. (2019). Scale, Standardize, or Normalize with Scikit-Learn. Retrieved from https://towardsdatascience.com/scale-standardize-or-normalize-with-scikit-learn-6ccc7d176a02\n",
    "\n",
    "[9] Asaithambi, S. (2017). Why, How and When to Scale your Features. Retrieved from https://medium.com/greyatom/why-how-and-when-to-scale-your-features-4b30ab09db5e\n",
    "\n",
    "[10] Kelleher,J., Namee,B. & D'Arcy,A. (2015). Fundamentals of machine learning for predicitve data analytics, Chapter 5: Similarity-based Learning. The MIT Press. \n",
    "\n",
    "\n"
   ]
  }
 ],
 "metadata": {
  "kernelspec": {
   "display_name": "Python 3",
   "language": "python",
   "name": "python3"
  },
  "language_info": {
   "codemirror_mode": {
    "name": "ipython",
    "version": 3
   },
   "file_extension": ".py",
   "mimetype": "text/x-python",
   "name": "python",
   "nbconvert_exporter": "python",
   "pygments_lexer": "ipython3",
   "version": "3.7.3"
  }
 },
 "nbformat": 4,
 "nbformat_minor": 2
}
